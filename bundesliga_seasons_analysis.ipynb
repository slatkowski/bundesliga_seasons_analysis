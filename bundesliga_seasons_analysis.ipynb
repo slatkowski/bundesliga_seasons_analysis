{
 "cells": [
  {
   "attachments": {},
   "cell_type": "markdown",
   "id": "5d0b84a7",
   "metadata": {},
   "source": [
    "# Importy/Imports"
   ]
  },
  {
   "cell_type": "code",
   "execution_count": 3,
   "id": "f9bef951",
   "metadata": {},
   "outputs": [
    {
     "name": "stdout",
     "output_type": "stream",
     "text": [
      "Defaulting to user installation because normal site-packages is not writeable\n",
      "Requirement already satisfied: folium in c:\\users\\48668\\appdata\\roaming\\python\\python310\\site-packages (0.14.0)\n",
      "Requirement already satisfied: branca>=0.6.0 in c:\\users\\48668\\appdata\\roaming\\python\\python310\\site-packages (from folium) (0.6.0)\n",
      "Requirement already satisfied: jinja2>=2.9 in c:\\program files\\python310\\lib\\site-packages (from folium) (3.1.2)\n",
      "Requirement already satisfied: numpy in c:\\program files\\python310\\lib\\site-packages (from folium) (1.23.1)\n",
      "Requirement already satisfied: requests in c:\\users\\48668\\appdata\\roaming\\python\\python310\\site-packages (from folium) (2.28.1)\n",
      "Requirement already satisfied: MarkupSafe>=2.0 in c:\\users\\48668\\appdata\\roaming\\python\\python310\\site-packages (from jinja2>=2.9->folium) (2.1.1)\n",
      "Requirement already satisfied: charset-normalizer<3,>=2 in c:\\users\\48668\\appdata\\roaming\\python\\python310\\site-packages (from requests->folium) (2.1.1)\n",
      "Requirement already satisfied: idna<4,>=2.5 in c:\\users\\48668\\appdata\\roaming\\python\\python310\\site-packages (from requests->folium) (3.4)\n",
      "Requirement already satisfied: urllib3<1.27,>=1.21.1 in c:\\users\\48668\\appdata\\roaming\\python\\python310\\site-packages (from requests->folium) (1.26.13)\n",
      "Requirement already satisfied: certifi>=2017.4.17 in c:\\users\\48668\\appdata\\roaming\\python\\python310\\site-packages (from requests->folium) (2022.9.24)\n"
     ]
    }
   ],
   "source": [
    "import pandas as pd\n",
    "import zipfile\n",
    "import seaborn as sns\n",
    "import matplotlib.pyplot as plt\n",
    "import numpy as np\n",
    "! pip install folium\n",
    "import folium"
   ]
  },
  {
   "attachments": {},
   "cell_type": "markdown",
   "id": "9afaedca",
   "metadata": {},
   "source": [
    "# Załadowanie danych/Data loading"
   ]
  },
  {
   "cell_type": "code",
   "execution_count": 4,
   "id": "3eee54cd",
   "metadata": {},
   "outputs": [
    {
     "data": {
      "text/html": [
       "<div>\n",
       "<style scoped>\n",
       "    .dataframe tbody tr th:only-of-type {\n",
       "        vertical-align: middle;\n",
       "    }\n",
       "\n",
       "    .dataframe tbody tr th {\n",
       "        vertical-align: top;\n",
       "    }\n",
       "\n",
       "    .dataframe thead th {\n",
       "        text-align: right;\n",
       "    }\n",
       "</style>\n",
       "<table border=\"1\" class=\"dataframe\">\n",
       "  <thead>\n",
       "    <tr style=\"text-align: right;\">\n",
       "      <th></th>\n",
       "      <th>Unnamed: 0</th>\n",
       "      <th>MATCH_DATE</th>\n",
       "      <th>LEAGUE_NAME</th>\n",
       "      <th>SEASON</th>\n",
       "      <th>LEAGUE</th>\n",
       "      <th>FINISHED</th>\n",
       "      <th>LOCATION</th>\n",
       "      <th>VIEWER</th>\n",
       "      <th>MATCHDAY</th>\n",
       "      <th>MATCHDAY_NR</th>\n",
       "      <th>...</th>\n",
       "      <th>HOME_ICON</th>\n",
       "      <th>AWAY_TEAM_ID</th>\n",
       "      <th>AWAY_TEAM_NAME</th>\n",
       "      <th>AWAY_TEAM</th>\n",
       "      <th>AWAY_ICON</th>\n",
       "      <th>GOALS_HOME</th>\n",
       "      <th>GOALS_AWAY</th>\n",
       "      <th>DRAW</th>\n",
       "      <th>WIN_HOME</th>\n",
       "      <th>WIN_AWAY</th>\n",
       "    </tr>\n",
       "  </thead>\n",
       "  <tbody>\n",
       "    <tr>\n",
       "      <th>0</th>\n",
       "      <td>0</td>\n",
       "      <td>2005-08-05 20:30:00</td>\n",
       "      <td>1. Fussball-Bundesliga 2005/2006</td>\n",
       "      <td>2005</td>\n",
       "      <td>bl1</td>\n",
       "      <td>True</td>\n",
       "      <td>München</td>\n",
       "      <td>NaN</td>\n",
       "      <td>1. Spieltag</td>\n",
       "      <td>1</td>\n",
       "      <td>...</td>\n",
       "      <td>https://i.imgur.com/jJEsJrj.png</td>\n",
       "      <td>87</td>\n",
       "      <td>Borussia Mönchengladbach</td>\n",
       "      <td>Gladbach</td>\n",
       "      <td>https://i.imgur.com/KSIk0Eu.png</td>\n",
       "      <td>3</td>\n",
       "      <td>0</td>\n",
       "      <td>0.0</td>\n",
       "      <td>1.0</td>\n",
       "      <td>0.0</td>\n",
       "    </tr>\n",
       "    <tr>\n",
       "      <th>1</th>\n",
       "      <td>1</td>\n",
       "      <td>2005-08-06 15:30:00</td>\n",
       "      <td>1. Fussball-Bundesliga 2005/2006</td>\n",
       "      <td>2005</td>\n",
       "      <td>bl1</td>\n",
       "      <td>True</td>\n",
       "      <td>Köln</td>\n",
       "      <td>NaN</td>\n",
       "      <td>1. Spieltag</td>\n",
       "      <td>1</td>\n",
       "      <td>...</td>\n",
       "      <td>https://upload.wikimedia.org/wikipedia/en/thum...</td>\n",
       "      <td>81</td>\n",
       "      <td>1. FSV Mainz 05</td>\n",
       "      <td>Mainz</td>\n",
       "      <td>https://upload.wikimedia.org/wikipedia/commons...</td>\n",
       "      <td>1</td>\n",
       "      <td>0</td>\n",
       "      <td>0.0</td>\n",
       "      <td>1.0</td>\n",
       "      <td>0.0</td>\n",
       "    </tr>\n",
       "    <tr>\n",
       "      <th>2</th>\n",
       "      <td>2</td>\n",
       "      <td>2005-08-06 15:30:00</td>\n",
       "      <td>1. Fussball-Bundesliga 2005/2006</td>\n",
       "      <td>2005</td>\n",
       "      <td>bl1</td>\n",
       "      <td>True</td>\n",
       "      <td>Duisburg</td>\n",
       "      <td>NaN</td>\n",
       "      <td>1. Spieltag</td>\n",
       "      <td>1</td>\n",
       "      <td>...</td>\n",
       "      <td>https://upload.wikimedia.org/wikipedia/en/c/c8...</td>\n",
       "      <td>16</td>\n",
       "      <td>VfB Stuttgart</td>\n",
       "      <td>Stuttgart</td>\n",
       "      <td>https://i.imgur.com/v0tkpNx.png</td>\n",
       "      <td>1</td>\n",
       "      <td>1</td>\n",
       "      <td>1.0</td>\n",
       "      <td>0.0</td>\n",
       "      <td>0.0</td>\n",
       "    </tr>\n",
       "    <tr>\n",
       "      <th>3</th>\n",
       "      <td>3</td>\n",
       "      <td>2005-08-06 15:30:00</td>\n",
       "      <td>1. Fussball-Bundesliga 2005/2006</td>\n",
       "      <td>2005</td>\n",
       "      <td>bl1</td>\n",
       "      <td>True</td>\n",
       "      <td>Hamburg</td>\n",
       "      <td>NaN</td>\n",
       "      <td>1. Spieltag</td>\n",
       "      <td>1</td>\n",
       "      <td>...</td>\n",
       "      <td>https://upload.wikimedia.org/wikipedia/commons...</td>\n",
       "      <td>79</td>\n",
       "      <td>1. FC Nürnberg</td>\n",
       "      <td>Nürnberg</td>\n",
       "      <td>https://upload.wikimedia.org/wikipedia/commons...</td>\n",
       "      <td>3</td>\n",
       "      <td>0</td>\n",
       "      <td>0.0</td>\n",
       "      <td>1.0</td>\n",
       "      <td>0.0</td>\n",
       "    </tr>\n",
       "    <tr>\n",
       "      <th>4</th>\n",
       "      <td>4</td>\n",
       "      <td>2005-08-06 15:30:00</td>\n",
       "      <td>1. Fussball-Bundesliga 2005/2006</td>\n",
       "      <td>2005</td>\n",
       "      <td>bl1</td>\n",
       "      <td>True</td>\n",
       "      <td>Wolfsburg</td>\n",
       "      <td>NaN</td>\n",
       "      <td>1. Spieltag</td>\n",
       "      <td>1</td>\n",
       "      <td>...</td>\n",
       "      <td>https://i.imgur.com/ucqKV4B.png</td>\n",
       "      <td>7</td>\n",
       "      <td>Borussia Dortmund</td>\n",
       "      <td>BVB</td>\n",
       "      <td>https://upload.wikimedia.org/wikipedia/commons...</td>\n",
       "      <td>2</td>\n",
       "      <td>2</td>\n",
       "      <td>1.0</td>\n",
       "      <td>0.0</td>\n",
       "      <td>0.0</td>\n",
       "    </tr>\n",
       "    <tr>\n",
       "      <th>...</th>\n",
       "      <td>...</td>\n",
       "      <td>...</td>\n",
       "      <td>...</td>\n",
       "      <td>...</td>\n",
       "      <td>...</td>\n",
       "      <td>...</td>\n",
       "      <td>...</td>\n",
       "      <td>...</td>\n",
       "      <td>...</td>\n",
       "      <td>...</td>\n",
       "      <td>...</td>\n",
       "      <td>...</td>\n",
       "      <td>...</td>\n",
       "      <td>...</td>\n",
       "      <td>...</td>\n",
       "      <td>...</td>\n",
       "      <td>...</td>\n",
       "      <td>...</td>\n",
       "      <td>...</td>\n",
       "      <td>...</td>\n",
       "      <td>...</td>\n",
       "    </tr>\n",
       "    <tr>\n",
       "      <th>5503</th>\n",
       "      <td>5505</td>\n",
       "      <td>2023-05-27 15:30:00</td>\n",
       "      <td>1. Fußball-Bundesliga 2022/2023</td>\n",
       "      <td>2022</td>\n",
       "      <td>bl1</td>\n",
       "      <td>True</td>\n",
       "      <td>Köln</td>\n",
       "      <td>NaN</td>\n",
       "      <td>34. Spieltag</td>\n",
       "      <td>34</td>\n",
       "      <td>...</td>\n",
       "      <td>https://upload.wikimedia.org/wikipedia/en/thum...</td>\n",
       "      <td>40</td>\n",
       "      <td>FC Bayern München</td>\n",
       "      <td>Bayern</td>\n",
       "      <td>https://i.imgur.com/jJEsJrj.png</td>\n",
       "      <td>1</td>\n",
       "      <td>2</td>\n",
       "      <td>0.0</td>\n",
       "      <td>0.0</td>\n",
       "      <td>1.0</td>\n",
       "    </tr>\n",
       "    <tr>\n",
       "      <th>5504</th>\n",
       "      <td>5506</td>\n",
       "      <td>2023-05-27 15:30:00</td>\n",
       "      <td>1. Fußball-Bundesliga 2022/2023</td>\n",
       "      <td>2022</td>\n",
       "      <td>bl1</td>\n",
       "      <td>True</td>\n",
       "      <td>Leipzig</td>\n",
       "      <td>NaN</td>\n",
       "      <td>34. Spieltag</td>\n",
       "      <td>34</td>\n",
       "      <td>...</td>\n",
       "      <td>https://i.imgur.com/Rpwsjz1.png</td>\n",
       "      <td>9</td>\n",
       "      <td>FC Schalke 04</td>\n",
       "      <td>Schalke</td>\n",
       "      <td>https://upload.wikimedia.org/wikipedia/commons...</td>\n",
       "      <td>4</td>\n",
       "      <td>2</td>\n",
       "      <td>0.0</td>\n",
       "      <td>1.0</td>\n",
       "      <td>0.0</td>\n",
       "    </tr>\n",
       "    <tr>\n",
       "      <th>5505</th>\n",
       "      <td>5507</td>\n",
       "      <td>2023-05-27 15:30:00</td>\n",
       "      <td>1. Fußball-Bundesliga 2022/2023</td>\n",
       "      <td>2022</td>\n",
       "      <td>bl1</td>\n",
       "      <td>True</td>\n",
       "      <td>Stuttgart</td>\n",
       "      <td>NaN</td>\n",
       "      <td>34. Spieltag</td>\n",
       "      <td>34</td>\n",
       "      <td>...</td>\n",
       "      <td>https://i.imgur.com/v0tkpNx.png</td>\n",
       "      <td>175</td>\n",
       "      <td>TSG 1899 Hoffenheim</td>\n",
       "      <td>Hoffenheim</td>\n",
       "      <td>https://i.imgur.com/gF0PfEl.png</td>\n",
       "      <td>1</td>\n",
       "      <td>1</td>\n",
       "      <td>1.0</td>\n",
       "      <td>0.0</td>\n",
       "      <td>0.0</td>\n",
       "    </tr>\n",
       "    <tr>\n",
       "      <th>5506</th>\n",
       "      <td>5508</td>\n",
       "      <td>2023-05-27 15:30:00</td>\n",
       "      <td>1. Fußball-Bundesliga 2022/2023</td>\n",
       "      <td>2022</td>\n",
       "      <td>bl1</td>\n",
       "      <td>True</td>\n",
       "      <td>Berlin</td>\n",
       "      <td>NaN</td>\n",
       "      <td>34. Spieltag</td>\n",
       "      <td>34</td>\n",
       "      <td>...</td>\n",
       "      <td>https://assets.dfb.de/uploads/000/018/232/smal...</td>\n",
       "      <td>134</td>\n",
       "      <td>Werder Bremen</td>\n",
       "      <td>Bremen</td>\n",
       "      <td>https://upload.wikimedia.org/wikipedia/commons...</td>\n",
       "      <td>1</td>\n",
       "      <td>0</td>\n",
       "      <td>0.0</td>\n",
       "      <td>1.0</td>\n",
       "      <td>0.0</td>\n",
       "    </tr>\n",
       "    <tr>\n",
       "      <th>5507</th>\n",
       "      <td>5509</td>\n",
       "      <td>2023-05-27 15:30:00</td>\n",
       "      <td>1. Fußball-Bundesliga 2022/2023</td>\n",
       "      <td>2022</td>\n",
       "      <td>bl1</td>\n",
       "      <td>True</td>\n",
       "      <td>Wolfsburg</td>\n",
       "      <td>NaN</td>\n",
       "      <td>34. Spieltag</td>\n",
       "      <td>34</td>\n",
       "      <td>...</td>\n",
       "      <td>https://i.imgur.com/ucqKV4B.png</td>\n",
       "      <td>54</td>\n",
       "      <td>Hertha BSC</td>\n",
       "      <td>Hertha</td>\n",
       "      <td>https://i.imgur.com/apFwbYZ.png</td>\n",
       "      <td>1</td>\n",
       "      <td>2</td>\n",
       "      <td>0.0</td>\n",
       "      <td>0.0</td>\n",
       "      <td>1.0</td>\n",
       "    </tr>\n",
       "  </tbody>\n",
       "</table>\n",
       "<p>5508 rows × 23 columns</p>\n",
       "</div>"
      ],
      "text/plain": [
       "      Unnamed: 0           MATCH_DATE                       LEAGUE_NAME  \\\n",
       "0              0  2005-08-05 20:30:00  1. Fussball-Bundesliga 2005/2006   \n",
       "1              1  2005-08-06 15:30:00  1. Fussball-Bundesliga 2005/2006   \n",
       "2              2  2005-08-06 15:30:00  1. Fussball-Bundesliga 2005/2006   \n",
       "3              3  2005-08-06 15:30:00  1. Fussball-Bundesliga 2005/2006   \n",
       "4              4  2005-08-06 15:30:00  1. Fussball-Bundesliga 2005/2006   \n",
       "...          ...                  ...                               ...   \n",
       "5503        5505  2023-05-27 15:30:00   1. Fußball-Bundesliga 2022/2023   \n",
       "5504        5506  2023-05-27 15:30:00   1. Fußball-Bundesliga 2022/2023   \n",
       "5505        5507  2023-05-27 15:30:00   1. Fußball-Bundesliga 2022/2023   \n",
       "5506        5508  2023-05-27 15:30:00   1. Fußball-Bundesliga 2022/2023   \n",
       "5507        5509  2023-05-27 15:30:00   1. Fußball-Bundesliga 2022/2023   \n",
       "\n",
       "      SEASON LEAGUE  FINISHED   LOCATION  VIEWER      MATCHDAY  MATCHDAY_NR  \\\n",
       "0       2005    bl1      True    München     NaN   1. Spieltag            1   \n",
       "1       2005    bl1      True       Köln     NaN   1. Spieltag            1   \n",
       "2       2005    bl1      True   Duisburg     NaN   1. Spieltag            1   \n",
       "3       2005    bl1      True    Hamburg     NaN   1. Spieltag            1   \n",
       "4       2005    bl1      True  Wolfsburg     NaN   1. Spieltag            1   \n",
       "...      ...    ...       ...        ...     ...           ...          ...   \n",
       "5503    2022    bl1      True       Köln     NaN  34. Spieltag           34   \n",
       "5504    2022    bl1      True    Leipzig     NaN  34. Spieltag           34   \n",
       "5505    2022    bl1      True  Stuttgart     NaN  34. Spieltag           34   \n",
       "5506    2022    bl1      True     Berlin     NaN  34. Spieltag           34   \n",
       "5507    2022    bl1      True  Wolfsburg     NaN  34. Spieltag           34   \n",
       "\n",
       "      ...                                          HOME_ICON AWAY_TEAM_ID  \\\n",
       "0     ...                    https://i.imgur.com/jJEsJrj.png           87   \n",
       "1     ...  https://upload.wikimedia.org/wikipedia/en/thum...           81   \n",
       "2     ...  https://upload.wikimedia.org/wikipedia/en/c/c8...           16   \n",
       "3     ...  https://upload.wikimedia.org/wikipedia/commons...           79   \n",
       "4     ...                    https://i.imgur.com/ucqKV4B.png            7   \n",
       "...   ...                                                ...          ...   \n",
       "5503  ...  https://upload.wikimedia.org/wikipedia/en/thum...           40   \n",
       "5504  ...                    https://i.imgur.com/Rpwsjz1.png            9   \n",
       "5505  ...                    https://i.imgur.com/v0tkpNx.png          175   \n",
       "5506  ...  https://assets.dfb.de/uploads/000/018/232/smal...          134   \n",
       "5507  ...                    https://i.imgur.com/ucqKV4B.png           54   \n",
       "\n",
       "                AWAY_TEAM_NAME   AWAY_TEAM  \\\n",
       "0     Borussia Mönchengladbach    Gladbach   \n",
       "1              1. FSV Mainz 05       Mainz   \n",
       "2                VfB Stuttgart   Stuttgart   \n",
       "3               1. FC Nürnberg    Nürnberg   \n",
       "4            Borussia Dortmund         BVB   \n",
       "...                        ...         ...   \n",
       "5503         FC Bayern München      Bayern   \n",
       "5504             FC Schalke 04     Schalke   \n",
       "5505       TSG 1899 Hoffenheim  Hoffenheim   \n",
       "5506             Werder Bremen      Bremen   \n",
       "5507                Hertha BSC      Hertha   \n",
       "\n",
       "                                              AWAY_ICON GOALS_HOME GOALS_AWAY  \\\n",
       "0                       https://i.imgur.com/KSIk0Eu.png          3          0   \n",
       "1     https://upload.wikimedia.org/wikipedia/commons...          1          0   \n",
       "2                       https://i.imgur.com/v0tkpNx.png          1          1   \n",
       "3     https://upload.wikimedia.org/wikipedia/commons...          3          0   \n",
       "4     https://upload.wikimedia.org/wikipedia/commons...          2          2   \n",
       "...                                                 ...        ...        ...   \n",
       "5503                    https://i.imgur.com/jJEsJrj.png          1          2   \n",
       "5504  https://upload.wikimedia.org/wikipedia/commons...          4          2   \n",
       "5505                    https://i.imgur.com/gF0PfEl.png          1          1   \n",
       "5506  https://upload.wikimedia.org/wikipedia/commons...          1          0   \n",
       "5507                    https://i.imgur.com/apFwbYZ.png          1          2   \n",
       "\n",
       "     DRAW  WIN_HOME  WIN_AWAY  \n",
       "0     0.0       1.0       0.0  \n",
       "1     0.0       1.0       0.0  \n",
       "2     1.0       0.0       0.0  \n",
       "3     0.0       1.0       0.0  \n",
       "4     1.0       0.0       0.0  \n",
       "...   ...       ...       ...  \n",
       "5503  0.0       0.0       1.0  \n",
       "5504  0.0       1.0       0.0  \n",
       "5505  1.0       0.0       0.0  \n",
       "5506  0.0       1.0       0.0  \n",
       "5507  0.0       0.0       1.0  \n",
       "\n",
       "[5508 rows x 23 columns]"
      ]
     },
     "execution_count": 4,
     "metadata": {},
     "output_type": "execute_result"
    }
   ],
   "source": [
    "with zipfile.ZipFile('bulidata.csv.zip', 'r') as file:\n",
    "    file.extractall('')\n",
    "    \n",
    "df = pd.read_csv('bulidata.csv')\n",
    "df"
   ]
  },
  {
   "attachments": {},
   "cell_type": "markdown",
   "id": "d015b3bf",
   "metadata": {},
   "source": [
    "# Wstępna analiza/Preliminary analysis"
   ]
  },
  {
   "cell_type": "code",
   "execution_count": 5,
   "id": "753f984a",
   "metadata": {},
   "outputs": [
    {
     "name": "stdout",
     "output_type": "stream",
     "text": [
      "<class 'pandas.core.frame.DataFrame'>\n",
      "RangeIndex: 5508 entries, 0 to 5507\n",
      "Data columns (total 23 columns):\n",
      " #   Column          Non-Null Count  Dtype  \n",
      "---  ------          --------------  -----  \n",
      " 0   Unnamed: 0      5508 non-null   int64  \n",
      " 1   MATCH_DATE      5508 non-null   object \n",
      " 2   LEAGUE_NAME     5508 non-null   object \n",
      " 3   SEASON          5508 non-null   int64  \n",
      " 4   LEAGUE          5508 non-null   object \n",
      " 5   FINISHED        5508 non-null   bool   \n",
      " 6   LOCATION        5508 non-null   object \n",
      " 7   VIEWER          1682 non-null   float64\n",
      " 8   MATCHDAY        5508 non-null   object \n",
      " 9   MATCHDAY_NR     5508 non-null   int64  \n",
      " 10  HOME_TEAM_ID    5508 non-null   int64  \n",
      " 11  HOME_TEAM_NAME  5508 non-null   object \n",
      " 12  HOME_TEAM       5508 non-null   object \n",
      " 13  HOME_ICON       5508 non-null   object \n",
      " 14  AWAY_TEAM_ID    5508 non-null   int64  \n",
      " 15  AWAY_TEAM_NAME  5508 non-null   object \n",
      " 16  AWAY_TEAM       5474 non-null   object \n",
      " 17  AWAY_ICON       5508 non-null   object \n",
      " 18  GOALS_HOME      5508 non-null   int64  \n",
      " 19  GOALS_AWAY      5508 non-null   int64  \n",
      " 20  DRAW            5508 non-null   float64\n",
      " 21  WIN_HOME        5508 non-null   float64\n",
      " 22  WIN_AWAY        5508 non-null   float64\n",
      "dtypes: bool(1), float64(4), int64(7), object(11)\n",
      "memory usage: 952.2+ KB\n"
     ]
    }
   ],
   "source": [
    "df.info()"
   ]
  },
  {
   "cell_type": "code",
   "execution_count": 6,
   "id": "ad74d0b5",
   "metadata": {},
   "outputs": [
    {
     "data": {
      "text/plain": [
       "Unnamed: 0        False\n",
       "MATCH_DATE        False\n",
       "LEAGUE_NAME       False\n",
       "SEASON            False\n",
       "LEAGUE            False\n",
       "FINISHED          False\n",
       "LOCATION          False\n",
       "VIEWER             True\n",
       "MATCHDAY          False\n",
       "MATCHDAY_NR       False\n",
       "HOME_TEAM_ID      False\n",
       "HOME_TEAM_NAME    False\n",
       "HOME_TEAM         False\n",
       "HOME_ICON         False\n",
       "AWAY_TEAM_ID      False\n",
       "AWAY_TEAM_NAME    False\n",
       "AWAY_TEAM          True\n",
       "AWAY_ICON         False\n",
       "GOALS_HOME        False\n",
       "GOALS_AWAY        False\n",
       "DRAW              False\n",
       "WIN_HOME          False\n",
       "WIN_AWAY          False\n",
       "dtype: bool"
      ]
     },
     "execution_count": 6,
     "metadata": {},
     "output_type": "execute_result"
    }
   ],
   "source": [
    "df.isnull().any()"
   ]
  },
  {
   "cell_type": "code",
   "execution_count": 7,
   "id": "5bf822c0",
   "metadata": {},
   "outputs": [
    {
     "data": {
      "text/html": [
       "<div>\n",
       "<style scoped>\n",
       "    .dataframe tbody tr th:only-of-type {\n",
       "        vertical-align: middle;\n",
       "    }\n",
       "\n",
       "    .dataframe tbody tr th {\n",
       "        vertical-align: top;\n",
       "    }\n",
       "\n",
       "    .dataframe thead th {\n",
       "        text-align: right;\n",
       "    }\n",
       "</style>\n",
       "<table border=\"1\" class=\"dataframe\">\n",
       "  <thead>\n",
       "    <tr style=\"text-align: right;\">\n",
       "      <th></th>\n",
       "      <th>count</th>\n",
       "      <th>mean</th>\n",
       "      <th>std</th>\n",
       "      <th>min</th>\n",
       "      <th>25%</th>\n",
       "      <th>50%</th>\n",
       "      <th>75%</th>\n",
       "      <th>max</th>\n",
       "    </tr>\n",
       "  </thead>\n",
       "  <tbody>\n",
       "    <tr>\n",
       "      <th>Unnamed: 0</th>\n",
       "      <td>5508.0</td>\n",
       "      <td>2755.055556</td>\n",
       "      <td>1590.765865</td>\n",
       "      <td>0.0</td>\n",
       "      <td>1378.75</td>\n",
       "      <td>2755.5</td>\n",
       "      <td>4132.25</td>\n",
       "      <td>5509.0</td>\n",
       "    </tr>\n",
       "    <tr>\n",
       "      <th>SEASON</th>\n",
       "      <td>5508.0</td>\n",
       "      <td>2013.500000</td>\n",
       "      <td>5.188598</td>\n",
       "      <td>2005.0</td>\n",
       "      <td>2009.00</td>\n",
       "      <td>2013.5</td>\n",
       "      <td>2018.00</td>\n",
       "      <td>2022.0</td>\n",
       "    </tr>\n",
       "    <tr>\n",
       "      <th>VIEWER</th>\n",
       "      <td>1682.0</td>\n",
       "      <td>41841.023781</td>\n",
       "      <td>18057.421146</td>\n",
       "      <td>0.0</td>\n",
       "      <td>28176.25</td>\n",
       "      <td>41000.0</td>\n",
       "      <td>52121.00</td>\n",
       "      <td>81365.0</td>\n",
       "    </tr>\n",
       "    <tr>\n",
       "      <th>MATCHDAY_NR</th>\n",
       "      <td>5508.0</td>\n",
       "      <td>17.500000</td>\n",
       "      <td>9.811599</td>\n",
       "      <td>1.0</td>\n",
       "      <td>9.00</td>\n",
       "      <td>17.5</td>\n",
       "      <td>26.00</td>\n",
       "      <td>34.0</td>\n",
       "    </tr>\n",
       "    <tr>\n",
       "      <th>HOME_TEAM_ID</th>\n",
       "      <td>5508.0</td>\n",
       "      <td>109.762346</td>\n",
       "      <td>231.486413</td>\n",
       "      <td>6.0</td>\n",
       "      <td>40.00</td>\n",
       "      <td>81.0</td>\n",
       "      <td>112.00</td>\n",
       "      <td>1635.0</td>\n",
       "    </tr>\n",
       "    <tr>\n",
       "      <th>AWAY_TEAM_ID</th>\n",
       "      <td>5508.0</td>\n",
       "      <td>109.762346</td>\n",
       "      <td>231.486413</td>\n",
       "      <td>6.0</td>\n",
       "      <td>40.00</td>\n",
       "      <td>81.0</td>\n",
       "      <td>112.00</td>\n",
       "      <td>1635.0</td>\n",
       "    </tr>\n",
       "    <tr>\n",
       "      <th>GOALS_HOME</th>\n",
       "      <td>5508.0</td>\n",
       "      <td>1.394336</td>\n",
       "      <td>1.299628</td>\n",
       "      <td>0.0</td>\n",
       "      <td>0.00</td>\n",
       "      <td>1.0</td>\n",
       "      <td>2.00</td>\n",
       "      <td>9.0</td>\n",
       "    </tr>\n",
       "    <tr>\n",
       "      <th>GOALS_AWAY</th>\n",
       "      <td>5508.0</td>\n",
       "      <td>1.075527</td>\n",
       "      <td>1.131180</td>\n",
       "      <td>0.0</td>\n",
       "      <td>0.00</td>\n",
       "      <td>1.0</td>\n",
       "      <td>2.00</td>\n",
       "      <td>8.0</td>\n",
       "    </tr>\n",
       "    <tr>\n",
       "      <th>DRAW</th>\n",
       "      <td>5508.0</td>\n",
       "      <td>0.290668</td>\n",
       "      <td>0.454112</td>\n",
       "      <td>0.0</td>\n",
       "      <td>0.00</td>\n",
       "      <td>0.0</td>\n",
       "      <td>1.00</td>\n",
       "      <td>1.0</td>\n",
       "    </tr>\n",
       "    <tr>\n",
       "      <th>WIN_HOME</th>\n",
       "      <td>5508.0</td>\n",
       "      <td>0.425744</td>\n",
       "      <td>0.494500</td>\n",
       "      <td>0.0</td>\n",
       "      <td>0.00</td>\n",
       "      <td>0.0</td>\n",
       "      <td>1.00</td>\n",
       "      <td>1.0</td>\n",
       "    </tr>\n",
       "    <tr>\n",
       "      <th>WIN_AWAY</th>\n",
       "      <td>5508.0</td>\n",
       "      <td>0.283588</td>\n",
       "      <td>0.450780</td>\n",
       "      <td>0.0</td>\n",
       "      <td>0.00</td>\n",
       "      <td>0.0</td>\n",
       "      <td>1.00</td>\n",
       "      <td>1.0</td>\n",
       "    </tr>\n",
       "  </tbody>\n",
       "</table>\n",
       "</div>"
      ],
      "text/plain": [
       "               count          mean           std     min       25%      50%  \\\n",
       "Unnamed: 0    5508.0   2755.055556   1590.765865     0.0   1378.75   2755.5   \n",
       "SEASON        5508.0   2013.500000      5.188598  2005.0   2009.00   2013.5   \n",
       "VIEWER        1682.0  41841.023781  18057.421146     0.0  28176.25  41000.0   \n",
       "MATCHDAY_NR   5508.0     17.500000      9.811599     1.0      9.00     17.5   \n",
       "HOME_TEAM_ID  5508.0    109.762346    231.486413     6.0     40.00     81.0   \n",
       "AWAY_TEAM_ID  5508.0    109.762346    231.486413     6.0     40.00     81.0   \n",
       "GOALS_HOME    5508.0      1.394336      1.299628     0.0      0.00      1.0   \n",
       "GOALS_AWAY    5508.0      1.075527      1.131180     0.0      0.00      1.0   \n",
       "DRAW          5508.0      0.290668      0.454112     0.0      0.00      0.0   \n",
       "WIN_HOME      5508.0      0.425744      0.494500     0.0      0.00      0.0   \n",
       "WIN_AWAY      5508.0      0.283588      0.450780     0.0      0.00      0.0   \n",
       "\n",
       "                   75%      max  \n",
       "Unnamed: 0     4132.25   5509.0  \n",
       "SEASON         2018.00   2022.0  \n",
       "VIEWER        52121.00  81365.0  \n",
       "MATCHDAY_NR      26.00     34.0  \n",
       "HOME_TEAM_ID    112.00   1635.0  \n",
       "AWAY_TEAM_ID    112.00   1635.0  \n",
       "GOALS_HOME        2.00      9.0  \n",
       "GOALS_AWAY        2.00      8.0  \n",
       "DRAW              1.00      1.0  \n",
       "WIN_HOME          1.00      1.0  \n",
       "WIN_AWAY          1.00      1.0  "
      ]
     },
     "execution_count": 7,
     "metadata": {},
     "output_type": "execute_result"
    }
   ],
   "source": [
    "df.describe().T"
   ]
  },
  {
   "cell_type": "code",
   "execution_count": 8,
   "id": "9d299d93",
   "metadata": {},
   "outputs": [
    {
     "data": {
      "text/plain": [
       "0"
      ]
     },
     "execution_count": 8,
     "metadata": {},
     "output_type": "execute_result"
    }
   ],
   "source": [
    "df.duplicated().sum()"
   ]
  },
  {
   "attachments": {},
   "cell_type": "markdown",
   "id": "e382b917",
   "metadata": {},
   "source": [
    "# Czyszczenie danych/Dataset cleaning"
   ]
  },
  {
   "cell_type": "code",
   "execution_count": 9,
   "id": "6f8fd0dd",
   "metadata": {},
   "outputs": [
    {
     "data": {
      "text/html": [
       "<div>\n",
       "<style scoped>\n",
       "    .dataframe tbody tr th:only-of-type {\n",
       "        vertical-align: middle;\n",
       "    }\n",
       "\n",
       "    .dataframe tbody tr th {\n",
       "        vertical-align: top;\n",
       "    }\n",
       "\n",
       "    .dataframe thead th {\n",
       "        text-align: right;\n",
       "    }\n",
       "</style>\n",
       "<table border=\"1\" class=\"dataframe\">\n",
       "  <thead>\n",
       "    <tr style=\"text-align: right;\">\n",
       "      <th></th>\n",
       "      <th>season</th>\n",
       "      <th>location</th>\n",
       "      <th>viewer</th>\n",
       "      <th>matchday_nr</th>\n",
       "      <th>home_team_name</th>\n",
       "      <th>away_team_name</th>\n",
       "      <th>goals_home</th>\n",
       "      <th>goals_away</th>\n",
       "      <th>draw</th>\n",
       "      <th>win_home</th>\n",
       "      <th>win_away</th>\n",
       "      <th>game_year</th>\n",
       "      <th>game_month</th>\n",
       "      <th>game_day</th>\n",
       "      <th>hour_game</th>\n",
       "      <th>winner</th>\n",
       "    </tr>\n",
       "  </thead>\n",
       "  <tbody>\n",
       "    <tr>\n",
       "      <th>0</th>\n",
       "      <td>2005/2006</td>\n",
       "      <td>München</td>\n",
       "      <td>NaN</td>\n",
       "      <td>1</td>\n",
       "      <td>FC Bayern München</td>\n",
       "      <td>Borussia Mönchengladbach</td>\n",
       "      <td>3</td>\n",
       "      <td>0</td>\n",
       "      <td>0.0</td>\n",
       "      <td>1.0</td>\n",
       "      <td>0.0</td>\n",
       "      <td>2005</td>\n",
       "      <td>August</td>\n",
       "      <td>Friday</td>\n",
       "      <td>20:30:00</td>\n",
       "      <td>home team</td>\n",
       "    </tr>\n",
       "    <tr>\n",
       "      <th>1</th>\n",
       "      <td>2005/2006</td>\n",
       "      <td>Köln</td>\n",
       "      <td>NaN</td>\n",
       "      <td>1</td>\n",
       "      <td>1. FC Köln</td>\n",
       "      <td>1. FSV Mainz 05</td>\n",
       "      <td>1</td>\n",
       "      <td>0</td>\n",
       "      <td>0.0</td>\n",
       "      <td>1.0</td>\n",
       "      <td>0.0</td>\n",
       "      <td>2005</td>\n",
       "      <td>August</td>\n",
       "      <td>Saturday</td>\n",
       "      <td>15:30:00</td>\n",
       "      <td>home team</td>\n",
       "    </tr>\n",
       "    <tr>\n",
       "      <th>2</th>\n",
       "      <td>2005/2006</td>\n",
       "      <td>Duisburg</td>\n",
       "      <td>NaN</td>\n",
       "      <td>1</td>\n",
       "      <td>MSV Duisburg</td>\n",
       "      <td>VfB Stuttgart</td>\n",
       "      <td>1</td>\n",
       "      <td>1</td>\n",
       "      <td>1.0</td>\n",
       "      <td>0.0</td>\n",
       "      <td>0.0</td>\n",
       "      <td>2005</td>\n",
       "      <td>August</td>\n",
       "      <td>Saturday</td>\n",
       "      <td>15:30:00</td>\n",
       "      <td>draw</td>\n",
       "    </tr>\n",
       "    <tr>\n",
       "      <th>3</th>\n",
       "      <td>2005/2006</td>\n",
       "      <td>Hamburg</td>\n",
       "      <td>NaN</td>\n",
       "      <td>1</td>\n",
       "      <td>Hamburger SV</td>\n",
       "      <td>1. FC Nürnberg</td>\n",
       "      <td>3</td>\n",
       "      <td>0</td>\n",
       "      <td>0.0</td>\n",
       "      <td>1.0</td>\n",
       "      <td>0.0</td>\n",
       "      <td>2005</td>\n",
       "      <td>August</td>\n",
       "      <td>Saturday</td>\n",
       "      <td>15:30:00</td>\n",
       "      <td>home team</td>\n",
       "    </tr>\n",
       "    <tr>\n",
       "      <th>4</th>\n",
       "      <td>2005/2006</td>\n",
       "      <td>Wolfsburg</td>\n",
       "      <td>NaN</td>\n",
       "      <td>1</td>\n",
       "      <td>VfL Wolfsburg</td>\n",
       "      <td>Borussia Dortmund</td>\n",
       "      <td>2</td>\n",
       "      <td>2</td>\n",
       "      <td>1.0</td>\n",
       "      <td>0.0</td>\n",
       "      <td>0.0</td>\n",
       "      <td>2005</td>\n",
       "      <td>August</td>\n",
       "      <td>Saturday</td>\n",
       "      <td>15:30:00</td>\n",
       "      <td>draw</td>\n",
       "    </tr>\n",
       "    <tr>\n",
       "      <th>...</th>\n",
       "      <td>...</td>\n",
       "      <td>...</td>\n",
       "      <td>...</td>\n",
       "      <td>...</td>\n",
       "      <td>...</td>\n",
       "      <td>...</td>\n",
       "      <td>...</td>\n",
       "      <td>...</td>\n",
       "      <td>...</td>\n",
       "      <td>...</td>\n",
       "      <td>...</td>\n",
       "      <td>...</td>\n",
       "      <td>...</td>\n",
       "      <td>...</td>\n",
       "      <td>...</td>\n",
       "      <td>...</td>\n",
       "    </tr>\n",
       "    <tr>\n",
       "      <th>5503</th>\n",
       "      <td>2022/2023</td>\n",
       "      <td>Köln</td>\n",
       "      <td>NaN</td>\n",
       "      <td>34</td>\n",
       "      <td>1. FC Köln</td>\n",
       "      <td>FC Bayern München</td>\n",
       "      <td>1</td>\n",
       "      <td>2</td>\n",
       "      <td>0.0</td>\n",
       "      <td>0.0</td>\n",
       "      <td>1.0</td>\n",
       "      <td>2023</td>\n",
       "      <td>May</td>\n",
       "      <td>Saturday</td>\n",
       "      <td>15:30:00</td>\n",
       "      <td>away team</td>\n",
       "    </tr>\n",
       "    <tr>\n",
       "      <th>5504</th>\n",
       "      <td>2022/2023</td>\n",
       "      <td>Leipzig</td>\n",
       "      <td>NaN</td>\n",
       "      <td>34</td>\n",
       "      <td>RB Leipzig</td>\n",
       "      <td>FC Schalke 04</td>\n",
       "      <td>4</td>\n",
       "      <td>2</td>\n",
       "      <td>0.0</td>\n",
       "      <td>1.0</td>\n",
       "      <td>0.0</td>\n",
       "      <td>2023</td>\n",
       "      <td>May</td>\n",
       "      <td>Saturday</td>\n",
       "      <td>15:30:00</td>\n",
       "      <td>home team</td>\n",
       "    </tr>\n",
       "    <tr>\n",
       "      <th>5505</th>\n",
       "      <td>2022/2023</td>\n",
       "      <td>Stuttgart</td>\n",
       "      <td>NaN</td>\n",
       "      <td>34</td>\n",
       "      <td>VfB Stuttgart</td>\n",
       "      <td>TSG 1899 Hoffenheim</td>\n",
       "      <td>1</td>\n",
       "      <td>1</td>\n",
       "      <td>1.0</td>\n",
       "      <td>0.0</td>\n",
       "      <td>0.0</td>\n",
       "      <td>2023</td>\n",
       "      <td>May</td>\n",
       "      <td>Saturday</td>\n",
       "      <td>15:30:00</td>\n",
       "      <td>draw</td>\n",
       "    </tr>\n",
       "    <tr>\n",
       "      <th>5506</th>\n",
       "      <td>2022/2023</td>\n",
       "      <td>Berlin</td>\n",
       "      <td>NaN</td>\n",
       "      <td>34</td>\n",
       "      <td>1. FC Union Berlin</td>\n",
       "      <td>Werder Bremen</td>\n",
       "      <td>1</td>\n",
       "      <td>0</td>\n",
       "      <td>0.0</td>\n",
       "      <td>1.0</td>\n",
       "      <td>0.0</td>\n",
       "      <td>2023</td>\n",
       "      <td>May</td>\n",
       "      <td>Saturday</td>\n",
       "      <td>15:30:00</td>\n",
       "      <td>home team</td>\n",
       "    </tr>\n",
       "    <tr>\n",
       "      <th>5507</th>\n",
       "      <td>2022/2023</td>\n",
       "      <td>Wolfsburg</td>\n",
       "      <td>NaN</td>\n",
       "      <td>34</td>\n",
       "      <td>VfL Wolfsburg</td>\n",
       "      <td>Hertha BSC</td>\n",
       "      <td>1</td>\n",
       "      <td>2</td>\n",
       "      <td>0.0</td>\n",
       "      <td>0.0</td>\n",
       "      <td>1.0</td>\n",
       "      <td>2023</td>\n",
       "      <td>May</td>\n",
       "      <td>Saturday</td>\n",
       "      <td>15:30:00</td>\n",
       "      <td>away team</td>\n",
       "    </tr>\n",
       "  </tbody>\n",
       "</table>\n",
       "<p>5508 rows × 16 columns</p>\n",
       "</div>"
      ],
      "text/plain": [
       "         season   location  viewer  matchday_nr      home_team_name  \\\n",
       "0     2005/2006    München     NaN            1   FC Bayern München   \n",
       "1     2005/2006       Köln     NaN            1          1. FC Köln   \n",
       "2     2005/2006   Duisburg     NaN            1        MSV Duisburg   \n",
       "3     2005/2006    Hamburg     NaN            1        Hamburger SV   \n",
       "4     2005/2006  Wolfsburg     NaN            1       VfL Wolfsburg   \n",
       "...         ...        ...     ...          ...                 ...   \n",
       "5503  2022/2023       Köln     NaN           34          1. FC Köln   \n",
       "5504  2022/2023    Leipzig     NaN           34          RB Leipzig   \n",
       "5505  2022/2023  Stuttgart     NaN           34       VfB Stuttgart   \n",
       "5506  2022/2023     Berlin     NaN           34  1. FC Union Berlin   \n",
       "5507  2022/2023  Wolfsburg     NaN           34       VfL Wolfsburg   \n",
       "\n",
       "                away_team_name  goals_home  goals_away  draw  win_home  \\\n",
       "0     Borussia Mönchengladbach           3           0   0.0       1.0   \n",
       "1              1. FSV Mainz 05           1           0   0.0       1.0   \n",
       "2                VfB Stuttgart           1           1   1.0       0.0   \n",
       "3               1. FC Nürnberg           3           0   0.0       1.0   \n",
       "4            Borussia Dortmund           2           2   1.0       0.0   \n",
       "...                        ...         ...         ...   ...       ...   \n",
       "5503         FC Bayern München           1           2   0.0       0.0   \n",
       "5504             FC Schalke 04           4           2   0.0       1.0   \n",
       "5505       TSG 1899 Hoffenheim           1           1   1.0       0.0   \n",
       "5506             Werder Bremen           1           0   0.0       1.0   \n",
       "5507                Hertha BSC           1           2   0.0       0.0   \n",
       "\n",
       "      win_away  game_year game_month  game_day hour_game     winner  \n",
       "0          0.0       2005     August    Friday  20:30:00  home team  \n",
       "1          0.0       2005     August  Saturday  15:30:00  home team  \n",
       "2          0.0       2005     August  Saturday  15:30:00       draw  \n",
       "3          0.0       2005     August  Saturday  15:30:00  home team  \n",
       "4          0.0       2005     August  Saturday  15:30:00       draw  \n",
       "...        ...        ...        ...       ...       ...        ...  \n",
       "5503       1.0       2023        May  Saturday  15:30:00  away team  \n",
       "5504       0.0       2023        May  Saturday  15:30:00  home team  \n",
       "5505       0.0       2023        May  Saturday  15:30:00       draw  \n",
       "5506       0.0       2023        May  Saturday  15:30:00  home team  \n",
       "5507       1.0       2023        May  Saturday  15:30:00  away team  \n",
       "\n",
       "[5508 rows x 16 columns]"
      ]
     },
     "execution_count": 9,
     "metadata": {},
     "output_type": "execute_result"
    }
   ],
   "source": [
    "'''Zmiana wielkości liter w nazwach kolumn na małe.\n",
    "Converting columns names into lower case.'''\n",
    "df.columns = df.columns.str.lower()\n",
    "\n",
    "'''Złączenie trzech kolumn odnośnie zwycięzcy do jednej kolumny. \n",
    "Merging 3 columns with information about winner to 1 single column.'''\n",
    "df['match_result'] = df[['draw', 'win_home', 'win_away']].idxmax(axis = 1)\n",
    "\n",
    "'''Zmiana typu danych w kolumnie match_date na datetime.\n",
    "Converting match_date column to datetime.'''\n",
    "df['match_date'] = pd.to_datetime(df['match_date'])\n",
    "\n",
    "'''Utworzenie kolumn game_month, game_day i game_hour.\n",
    "Creating game_month, game_day and game_hour columns.'''\n",
    "df['game_year'] = df['match_date'].dt.year\n",
    "df['game_month'] = df['match_date'].dt.month_name()\n",
    "df['game_day'] = df['match_date'].dt.day_name()\n",
    "df['hour_game'] = df['match_date'].dt.time\n",
    "\n",
    "'''Utworzenie kolumny match_result z kolumn draw, win_home i win_away.\n",
    " Creating match_result column by draw, win_home and win_away columns.'''\n",
    "def change_match_result(result):\n",
    "    if result == \"win_home\":\n",
    "        return \"home team\"\n",
    "    elif result == \"win_away\":\n",
    "        return \"away team\"\n",
    "    else:\n",
    "        return \"draw\"\n",
    "    \n",
    "df['winner'] = df['match_result'].apply(change_match_result)\n",
    "\n",
    "'''Dodanie w kolumnie season drugiej informacji odnośnie sezonu (drugi rok sezonu, w którym są rozgrywane mecze).\n",
    "Changing season column to added second part of information about season (second year the season is played).'''\n",
    "df['season'] = df['season'].apply(lambda x: str(x) + '/' + str(x + 1))\n",
    "\n",
    "'''Usunięcie kolumn niepotrzebnych do analizy.\n",
    "Removing columns not relevant to the analysis.'''\n",
    "df.drop(columns = ['unnamed: 0', 'league_name', 'match_date', 'matchday', 'match_result', 'league', 'finished', 'home_icon',\n",
    "                   'away_icon', 'home_team', 'away_team', 'home_team_id', 'away_team_id'], inplace = True)\n",
    "\n",
    "df"
   ]
  },
  {
   "attachments": {},
   "cell_type": "markdown",
   "id": "3a944aa1",
   "metadata": {},
   "source": [
    "# Eksploracyjna analiza danych/Exploratory Data Analysis"
   ]
  },
  {
   "attachments": {},
   "cell_type": "markdown",
   "id": "4ae70153",
   "metadata": {},
   "source": [
    "### Analiza sezonów/Seasons analysis"
   ]
  },
  {
   "cell_type": "code",
   "execution_count": 10,
   "id": "f637eb93",
   "metadata": {},
   "outputs": [
    {
     "data": {
      "image/png": "[encoded data removed]",
      "text/plain": [
       "<Figure size 1080x720 with 1 Axes>"
      ]
     },
     "metadata": {
      "needs_background": "light"
     },
     "output_type": "display_data"
    }
   ],
   "source": [
    "height = df['season'].value_counts()\n",
    "bars = ['2005/2006', '2006/2007', '2007/2008', '2008/2009', '2009/2010', '2010/2011', '2011/2012', '2012/2013', '2013/2014', '2014/2015',\n",
    "        '2015/2016', '2016/2017', '2017/2018', '2018/2019', '2019/2020', '2020/2021', '2021/2022', '2022/2023']\n",
    "y_pos = np.arange(len(height))\n",
    "\n",
    "plt.figure(figsize = (15, 10))\n",
    "\n",
    "plt.bar(x = y_pos, height = height)\n",
    "plt.xticks(y_pos, labels = bars, rotation = 45)\n",
    "\n",
    "plt.xlabel('Bundesliga seasons', fontsize = 12)\n",
    "plt.ylabel('Number of matches', fontsize = 12)\n",
    "plt.title('Number of matches in each season of Bundesliga', fontsize = 16)\n",
    "\n",
    "plt.show()"
   ]
  },
  {
   "attachments": {},
   "cell_type": "markdown",
   "id": "738e2644",
   "metadata": {},
   "source": [
    "W każdym sezonie została rozegrana taka sama liczba meczów. Zgodnie w każdym sezonie rozegrano 306 meczów. Widać to również na wykresie.\n",
    "\n",
    "The same number of matches were played each season. Acording to the conclusion, 306 matches were played in each season. This can also be seen in the graph. "
   ]
  },
  {
   "attachments": {},
   "cell_type": "markdown",
   "id": "8414a34b",
   "metadata": {},
   "source": [
    "### Analiza lokalizacji/Location analysis"
   ]
  },
  {
   "cell_type": "code",
   "execution_count": 11,
   "id": "d60b4edf",
   "metadata": {},
   "outputs": [
    {
     "data": {
      "image/png": "[encoded data removed]",
      "text/plain": [
       "<Figure size 1080x720 with 1 Axes>"
      ]
     },
     "metadata": {
      "needs_background": "light"
     },
     "output_type": "display_data"
    }
   ],
   "source": [
    "matches_count = df['location'].value_counts().reset_index()\n",
    "matches_count.columns = ['location', 'matches']\n",
    "matches_count = matches_count.sort_values(by = 'matches')\n",
    "\n",
    "plt.figure(figsize = (15, 10))\n",
    "\n",
    "plt.barh(matches_count['location'], matches_count['matches'], color = 'green')\n",
    "\n",
    "plt.xlabel('Number of matches', fontsize = 12)\n",
    "plt.ylabel('Cities', fontsize = 12)\n",
    "plt.title('Number of matches in cities in each season of Bundesliga', fontsize = 16)\n",
    "\n",
    "plt.show()"
   ]
  },
  {
   "attachments": {},
   "cell_type": "markdown",
   "id": "f2b49f63",
   "metadata": {},
   "source": [
    "W uprzednio analizowanych sezonach najwięcej meczów rozegranych w Bundeslidze zostało rozegranych w Berlinie, a następnie w Monachium, Wolfsburgu, Dortmundzie i Leverkusen. Po drugiej stronie znajdują się miasta takie jak Brunszwik, Akwizgran i Rostock.\n",
    "\n",
    "In previously analyzed seasons the most matches in the Bundesliga was played in Berlin and then in München, Wolfsburg, Dortmund and Leverkusen. On the other side there are cities like Braunschweig, Aachen and Rostock."
   ]
  },
  {
   "cell_type": "code",
   "execution_count": 12,
   "id": "7e8933ab",
   "metadata": {},
   "outputs": [
    {
     "data": {
      "text/html": [
       "<div style=\"width:100%;\"><div style=\"position:relative;width:100%;height:0;padding-bottom:60%;\"><span style=\"color:#565656\">Make this Notebook Trusted to load map: File -> Trust Notebook</span><iframe srcdoc=\"&lt;!DOCTYPE html&gt;\n",
       "&lt;html&gt;\n",
       "&lt;head&gt;\n",
       "    \n",
       "    &lt;meta http-equiv=&quot;content-type&quot; content=&quot;text/html; charset=UTF-8&quot; /&gt;\n",
       "    \n",
       "        &lt;script&gt;\n",
       "            L_NO_TOUCH = false;\n",
       "            L_DISABLE_3D = false;\n",
       "        &lt;/script&gt;\n",
       "    \n",
       "    &lt;style&gt;html, body {width: 100%;height: 100%;margin: 0;padding: 0;}&lt;/style&gt;\n",
       "    &lt;style&gt;#map {position:absolute;top:0;bottom:0;right:0;left:0;}&lt;/style&gt;\n",
       "    &lt;script src=&quot;https://cdn.jsdelivr.net/npm/leaflet@1.9.3/dist/leaflet.js&quot;&gt;&lt;/script&gt;\n",
       "    &lt;script src=&quot;https://code.jquery.com/jquery-1.12.4.min.js&quot;&gt;&lt;/script&gt;\n",
       "    &lt;script src=&quot;https://cdn.jsdelivr.net/npm/bootstrap@5.2.2/dist/js/bootstrap.bundle.min.js&quot;&gt;&lt;/script&gt;\n",
       "    &lt;script src=&quot;https://cdnjs.cloudflare.com/ajax/libs/Leaflet.awesome-markers/2.0.2/leaflet.awesome-markers.js&quot;&gt;&lt;/script&gt;\n",
       "    &lt;link rel=&quot;stylesheet&quot; href=&quot;https://cdn.jsdelivr.net/npm/leaflet@1.9.3/dist/leaflet.css&quot;/&gt;\n",
       "    &lt;link rel=&quot;stylesheet&quot; href=&quot;https://cdn.jsdelivr.net/npm/bootstrap@5.2.2/dist/css/bootstrap.min.css&quot;/&gt;\n",
       "    &lt;link rel=&quot;stylesheet&quot; href=&quot;https://netdna.bootstrapcdn.com/bootstrap/3.0.0/css/bootstrap.min.css&quot;/&gt;\n",
       "    &lt;link rel=&quot;stylesheet&quot; href=&quot;https://cdn.jsdelivr.net/npm/@fortawesome/fontawesome-free@6.2.0/css/all.min.css&quot;/&gt;\n",
       "    &lt;link rel=&quot;stylesheet&quot; href=&quot;https://cdnjs.cloudflare.com/ajax/libs/Leaflet.awesome-markers/2.0.2/leaflet.awesome-markers.css&quot;/&gt;\n",
       "    &lt;link rel=&quot;stylesheet&quot; href=&quot;https://cdn.jsdelivr.net/gh/python-visualization/folium/folium/templates/leaflet.awesome.rotate.min.css&quot;/&gt;\n",
       "    \n",
       "            &lt;meta name=&quot;viewport&quot; content=&quot;width=device-width,\n",
       "                initial-scale=1.0, maximum-scale=1.0, user-scalable=no&quot; /&gt;\n",
       "            &lt;style&gt;\n",
       "                #map_9edfb77aa53533814928f75bb99b324d {\n",
       "                    position: relative;\n",
       "                    width: 100.0%;\n",
       "                    height: 100.0%;\n",
       "                    left: 0.0%;\n",
       "                    top: 0.0%;\n",
       "                }\n",
       "                .leaflet-container { font-size: 1rem; }\n",
       "            &lt;/style&gt;\n",
       "        \n",
       "&lt;/head&gt;\n",
       "&lt;body&gt;\n",
       "    \n",
       "    \n",
       "            &lt;div class=&quot;folium-map&quot; id=&quot;map_9edfb77aa53533814928f75bb99b324d&quot; &gt;&lt;/div&gt;\n",
       "        \n",
       "&lt;/body&gt;\n",
       "&lt;script&gt;\n",
       "    \n",
       "    \n",
       "            var map_9edfb77aa53533814928f75bb99b324d = L.map(\n",
       "                &quot;map_9edfb77aa53533814928f75bb99b324d&quot;,\n",
       "                {\n",
       "                    center: [51.0, 9.0],\n",
       "                    crs: L.CRS.EPSG3857,\n",
       "                    zoom: 6,\n",
       "                    zoomControl: true,\n",
       "                    preferCanvas: false,\n",
       "                }\n",
       "            );\n",
       "\n",
       "            \n",
       "\n",
       "        \n",
       "    \n",
       "            var tile_layer_9bd6839e9ff4d8360b7283a682346e7c = L.tileLayer(\n",
       "                &quot;https://{s}.tile.openstreetmap.org/{z}/{x}/{y}.png&quot;,\n",
       "                {&quot;attribution&quot;: &quot;Data by \\u0026copy; \\u003ca target=\\&quot;_blank\\&quot; href=\\&quot;http://openstreetmap.org\\&quot;\\u003eOpenStreetMap\\u003c/a\\u003e, under \\u003ca target=\\&quot;_blank\\&quot; href=\\&quot;http://www.openstreetmap.org/copyright\\&quot;\\u003eODbL\\u003c/a\\u003e.&quot;, &quot;detectRetina&quot;: false, &quot;maxNativeZoom&quot;: 18, &quot;maxZoom&quot;: 18, &quot;minZoom&quot;: 0, &quot;noWrap&quot;: false, &quot;opacity&quot;: 1, &quot;subdomains&quot;: &quot;abc&quot;, &quot;tms&quot;: false}\n",
       "            ).addTo(map_9edfb77aa53533814928f75bb99b324d);\n",
       "        \n",
       "    \n",
       "            var marker_d92a37e9137775e438e00761de5725d6 = L.marker(\n",
       "                [52.52437, 13.41053],\n",
       "                {}\n",
       "            ).addTo(map_9edfb77aa53533814928f75bb99b324d);\n",
       "        \n",
       "    \n",
       "        var popup_e40eeeb4ede70e82c275349c0fb82f27 = L.popup({&quot;maxWidth&quot;: &quot;100%&quot;});\n",
       "\n",
       "        \n",
       "            \n",
       "                var html_9bf5b943626e40076497cd7fb4206576 = $(`&lt;div id=&quot;html_9bf5b943626e40076497cd7fb4206576&quot; style=&quot;width: 100.0%; height: 100.0%;&quot;&gt;&lt;b&gt;Berlin (340 matches)&lt;b&gt;&lt;/div&gt;`)[0];\n",
       "                popup_e40eeeb4ede70e82c275349c0fb82f27.setContent(html_9bf5b943626e40076497cd7fb4206576);\n",
       "            \n",
       "        \n",
       "\n",
       "        marker_d92a37e9137775e438e00761de5725d6.bindPopup(popup_e40eeeb4ede70e82c275349c0fb82f27)\n",
       "        ;\n",
       "\n",
       "        \n",
       "    \n",
       "    \n",
       "            var marker_5a3ba554d57a9ab54ac8e58223ddb0d6 = L.marker(\n",
       "                [48.13743, 11.57549],\n",
       "                {}\n",
       "            ).addTo(map_9edfb77aa53533814928f75bb99b324d);\n",
       "        \n",
       "    \n",
       "        var popup_6a032dc6f7b72d2090a0e69a4997ccc9 = L.popup({&quot;maxWidth&quot;: &quot;100%&quot;});\n",
       "\n",
       "        \n",
       "            \n",
       "                var html_7520eca47ca90006d6d3577cd5e8f232 = $(`&lt;div id=&quot;html_7520eca47ca90006d6d3577cd5e8f232&quot; style=&quot;width: 100.0%; height: 100.0%;&quot;&gt;&lt;b&gt;München (306 matches)&lt;b&gt;&lt;/div&gt;`)[0];\n",
       "                popup_6a032dc6f7b72d2090a0e69a4997ccc9.setContent(html_7520eca47ca90006d6d3577cd5e8f232);\n",
       "            \n",
       "        \n",
       "\n",
       "        marker_5a3ba554d57a9ab54ac8e58223ddb0d6.bindPopup(popup_6a032dc6f7b72d2090a0e69a4997ccc9)\n",
       "        ;\n",
       "\n",
       "        \n",
       "    \n",
       "    \n",
       "            var marker_1c2ebba5649b95709eb3a7310dba4cee = L.marker(\n",
       "                [52.416667, 10.783333],\n",
       "                {}\n",
       "            ).addTo(map_9edfb77aa53533814928f75bb99b324d);\n",
       "        \n",
       "    \n",
       "        var popup_7ee454eb68b5c51e47e96dbd5ed5bd0d = L.popup({&quot;maxWidth&quot;: &quot;100%&quot;});\n",
       "\n",
       "        \n",
       "            \n",
       "                var html_1b969c2a1c15160223b77d22f4ea480a = $(`&lt;div id=&quot;html_1b969c2a1c15160223b77d22f4ea480a&quot; style=&quot;width: 100.0%; height: 100.0%;&quot;&gt;&lt;b&gt;Wolfsburg (306 matches)&lt;b&gt;&lt;/div&gt;`)[0];\n",
       "                popup_7ee454eb68b5c51e47e96dbd5ed5bd0d.setContent(html_1b969c2a1c15160223b77d22f4ea480a);\n",
       "            \n",
       "        \n",
       "\n",
       "        marker_1c2ebba5649b95709eb3a7310dba4cee.bindPopup(popup_7ee454eb68b5c51e47e96dbd5ed5bd0d)\n",
       "        ;\n",
       "\n",
       "        \n",
       "    \n",
       "    \n",
       "            var marker_d69ababa86a582c26ae12307427811bc = L.marker(\n",
       "                [51.51494, 7.466],\n",
       "                {}\n",
       "            ).addTo(map_9edfb77aa53533814928f75bb99b324d);\n",
       "        \n",
       "    \n",
       "        var popup_282356dbbb1de2433cee7a7d913270fb = L.popup({&quot;maxWidth&quot;: &quot;100%&quot;});\n",
       "\n",
       "        \n",
       "            \n",
       "                var html_33d243a349af6bd0aa44b9023392fa70 = $(`&lt;div id=&quot;html_33d243a349af6bd0aa44b9023392fa70&quot; style=&quot;width: 100.0%; height: 100.0%;&quot;&gt;&lt;b&gt;Dortmund (306 matches)&lt;b&gt;&lt;/div&gt;`)[0];\n",
       "                popup_282356dbbb1de2433cee7a7d913270fb.setContent(html_33d243a349af6bd0aa44b9023392fa70);\n",
       "            \n",
       "        \n",
       "\n",
       "        marker_d69ababa86a582c26ae12307427811bc.bindPopup(popup_282356dbbb1de2433cee7a7d913270fb)\n",
       "        ;\n",
       "\n",
       "        \n",
       "    \n",
       "    \n",
       "            var marker_64e354a0750e4963e639e6f1873d2730 = L.marker(\n",
       "                [51.0303, 6.98432],\n",
       "                {}\n",
       "            ).addTo(map_9edfb77aa53533814928f75bb99b324d);\n",
       "        \n",
       "    \n",
       "        var popup_7d282ef730b0bd4603d25c3f658cd68a = L.popup({&quot;maxWidth&quot;: &quot;100%&quot;});\n",
       "\n",
       "        \n",
       "            \n",
       "                var html_551aabbcd3d00080c979655accd8dc9a = $(`&lt;div id=&quot;html_551aabbcd3d00080c979655accd8dc9a&quot; style=&quot;width: 100.0%; height: 100.0%;&quot;&gt;&lt;b&gt;Leverkusen (306 matches)&lt;b&gt;&lt;/div&gt;`)[0];\n",
       "                popup_7d282ef730b0bd4603d25c3f658cd68a.setContent(html_551aabbcd3d00080c979655accd8dc9a);\n",
       "            \n",
       "        \n",
       "\n",
       "        marker_64e354a0750e4963e639e6f1873d2730.bindPopup(popup_7d282ef730b0bd4603d25c3f658cd68a)\n",
       "        ;\n",
       "\n",
       "        \n",
       "    \n",
       "    \n",
       "            var marker_099f17786ac5ba8f1eb79a1bd8ad68b0 = L.marker(\n",
       "                [51.18539, 6.44172],\n",
       "                {}\n",
       "            ).addTo(map_9edfb77aa53533814928f75bb99b324d);\n",
       "        \n",
       "    \n",
       "        var popup_10c1edf29d08b6269f99d0f99350c905 = L.popup({&quot;maxWidth&quot;: &quot;100%&quot;});\n",
       "\n",
       "        \n",
       "            \n",
       "                var html_96f5366aea841c8644657b7518b61b4f = $(`&lt;div id=&quot;html_96f5366aea841c8644657b7518b61b4f&quot; style=&quot;width: 100.0%; height: 100.0%;&quot;&gt;&lt;b&gt;Gladbach (289 matches)&lt;b&gt;&lt;/div&gt;`)[0];\n",
       "                popup_10c1edf29d08b6269f99d0f99350c905.setContent(html_96f5366aea841c8644657b7518b61b4f);\n",
       "            \n",
       "        \n",
       "\n",
       "        marker_099f17786ac5ba8f1eb79a1bd8ad68b0.bindPopup(popup_10c1edf29d08b6269f99d0f99350c905)\n",
       "        ;\n",
       "\n",
       "        \n",
       "    \n",
       "    \n",
       "            var marker_2a0c5102b08571355c16b479dc75aaf9 = L.marker(\n",
       "                [53.07516, 8.80777],\n",
       "                {}\n",
       "            ).addTo(map_9edfb77aa53533814928f75bb99b324d);\n",
       "        \n",
       "    \n",
       "        var popup_4566eb23706664040f1358ccf4372a79 = L.popup({&quot;maxWidth&quot;: &quot;100%&quot;});\n",
       "\n",
       "        \n",
       "            \n",
       "                var html_98b8dfb38baf691587824c9e4e502126 = $(`&lt;div id=&quot;html_98b8dfb38baf691587824c9e4e502126&quot; style=&quot;width: 100.0%; height: 100.0%;&quot;&gt;&lt;b&gt;Bremen (289 matches)&lt;b&gt;&lt;/div&gt;`)[0];\n",
       "                popup_4566eb23706664040f1358ccf4372a79.setContent(html_98b8dfb38baf691587824c9e4e502126);\n",
       "            \n",
       "        \n",
       "\n",
       "        marker_2a0c5102b08571355c16b479dc75aaf9.bindPopup(popup_4566eb23706664040f1358ccf4372a79)\n",
       "        ;\n",
       "\n",
       "        \n",
       "    \n",
       "    \n",
       "            var marker_45151ee8009383306d2308117891b61f = L.marker(\n",
       "                [51.5075, 7.12283],\n",
       "                {}\n",
       "            ).addTo(map_9edfb77aa53533814928f75bb99b324d);\n",
       "        \n",
       "    \n",
       "        var popup_030f313b784dca5eb956332d00ca5bc5 = L.popup({&quot;maxWidth&quot;: &quot;100%&quot;});\n",
       "\n",
       "        \n",
       "            \n",
       "                var html_da7b45487785bc496c167337b17caa32 = $(`&lt;div id=&quot;html_da7b45487785bc496c167337b17caa32&quot; style=&quot;width: 100.0%; height: 100.0%;&quot;&gt;&lt;b&gt; Gelsenkirchen (289 matches)&lt;b&gt;&lt;/div&gt;`)[0];\n",
       "                popup_030f313b784dca5eb956332d00ca5bc5.setContent(html_da7b45487785bc496c167337b17caa32);\n",
       "            \n",
       "        \n",
       "\n",
       "        marker_45151ee8009383306d2308117891b61f.bindPopup(popup_030f313b784dca5eb956332d00ca5bc5)\n",
       "        ;\n",
       "\n",
       "        \n",
       "    \n",
       "    \n",
       "            var marker_5ef80fde5a9589c1a77ef75b4f663bd1 = L.marker(\n",
       "                [50.11552, 8.68417],\n",
       "                {}\n",
       "            ).addTo(map_9edfb77aa53533814928f75bb99b324d);\n",
       "        \n",
       "    \n",
       "        var popup_6bfa62644098e00b745fe3f1c084558a = L.popup({&quot;maxWidth&quot;: &quot;100%&quot;});\n",
       "\n",
       "        \n",
       "            \n",
       "                var html_a21ddee967544ac4c8cc9c5e687b763c = $(`&lt;div id=&quot;html_a21ddee967544ac4c8cc9c5e687b763c&quot; style=&quot;width: 100.0%; height: 100.0%;&quot;&gt;&lt;b&gt;Franfurt (289 matches)&lt;b&gt;&lt;/div&gt;`)[0];\n",
       "                popup_6bfa62644098e00b745fe3f1c084558a.setContent(html_a21ddee967544ac4c8cc9c5e687b763c);\n",
       "            \n",
       "        \n",
       "\n",
       "        marker_5ef80fde5a9589c1a77ef75b4f663bd1.bindPopup(popup_6bfa62644098e00b745fe3f1c084558a)\n",
       "        ;\n",
       "\n",
       "        \n",
       "    \n",
       "    \n",
       "            var marker_75a555d5cd3237ef2990eee7a54b0aca = L.marker(\n",
       "                [49.98419, 8.2791],\n",
       "                {}\n",
       "            ).addTo(map_9edfb77aa53533814928f75bb99b324d);\n",
       "        \n",
       "    \n",
       "        var popup_4126a9a1d42c9ff88468b18394326ab7 = L.popup({&quot;maxWidth&quot;: &quot;100%&quot;});\n",
       "\n",
       "        \n",
       "            \n",
       "                var html_a6f5445f2fe5e522351be14cadb7a9fa = $(`&lt;div id=&quot;html_a6f5445f2fe5e522351be14cadb7a9fa&quot; style=&quot;width: 100.0%; height: 100.0%;&quot;&gt;&lt;b&gt;Mainz (272 matches)&lt;b&gt;&lt;/div&gt;`)[0];\n",
       "                popup_4126a9a1d42c9ff88468b18394326ab7.setContent(html_a6f5445f2fe5e522351be14cadb7a9fa);\n",
       "            \n",
       "        \n",
       "\n",
       "        marker_75a555d5cd3237ef2990eee7a54b0aca.bindPopup(popup_4126a9a1d42c9ff88468b18394326ab7)\n",
       "        ;\n",
       "\n",
       "        \n",
       "    \n",
       "    \n",
       "            var marker_a31ee6b083acf09adb98416e9414b54e = L.marker(\n",
       "                [48.78232, 9.17702],\n",
       "                {}\n",
       "            ).addTo(map_9edfb77aa53533814928f75bb99b324d);\n",
       "        \n",
       "    \n",
       "        var popup_aea43096de003481bfe397025ea61c66 = L.popup({&quot;maxWidth&quot;: &quot;100%&quot;});\n",
       "\n",
       "        \n",
       "            \n",
       "                var html_7b6a132a5bdaa7c7d3e43e53566848ec = $(`&lt;div id=&quot;html_7b6a132a5bdaa7c7d3e43e53566848ec&quot; style=&quot;width: 100.0%; height: 100.0%;&quot;&gt;&lt;b&gt;Stuttgart (272 matches)&lt;b&gt;&lt;/div&gt;`)[0];\n",
       "                popup_aea43096de003481bfe397025ea61c66.setContent(html_7b6a132a5bdaa7c7d3e43e53566848ec);\n",
       "            \n",
       "        \n",
       "\n",
       "        marker_a31ee6b083acf09adb98416e9414b54e.bindPopup(popup_aea43096de003481bfe397025ea61c66)\n",
       "        ;\n",
       "\n",
       "        \n",
       "    \n",
       "    \n",
       "            var marker_f785337f87b446c9c16b66e60f7a6308 = L.marker(\n",
       "                [49.2529, 8.87867],\n",
       "                {}\n",
       "            ).addTo(map_9edfb77aa53533814928f75bb99b324d);\n",
       "        \n",
       "    \n",
       "        var popup_4e331f4bc81d71b407c3f7e599ff953f = L.popup({&quot;maxWidth&quot;: &quot;100%&quot;});\n",
       "\n",
       "        \n",
       "            \n",
       "                var html_a8fb1221f28f526520cd39c05a971860 = $(`&lt;div id=&quot;html_a8fb1221f28f526520cd39c05a971860&quot; style=&quot;width: 100.0%; height: 100.0%;&quot;&gt;&lt;b&gt;Sinsheim (255 matches)&lt;b&gt;&lt;/div&gt;`)[0];\n",
       "                popup_4e331f4bc81d71b407c3f7e599ff953f.setContent(html_a8fb1221f28f526520cd39c05a971860);\n",
       "            \n",
       "        \n",
       "\n",
       "        marker_f785337f87b446c9c16b66e60f7a6308.bindPopup(popup_4e331f4bc81d71b407c3f7e599ff953f)\n",
       "        ;\n",
       "\n",
       "        \n",
       "    \n",
       "    \n",
       "            var marker_d5de1f1568ce53a3b392f482359bc21b = L.marker(\n",
       "                [53.57532, 10.01534],\n",
       "                {}\n",
       "            ).addTo(map_9edfb77aa53533814928f75bb99b324d);\n",
       "        \n",
       "    \n",
       "        var popup_9fa83eedae058406c746e79bf6c3e05a = L.popup({&quot;maxWidth&quot;: &quot;100%&quot;});\n",
       "\n",
       "        \n",
       "            \n",
       "                var html_9a801331e87f86a05d87f44bb0e8c24d = $(`&lt;div id=&quot;html_9a801331e87f86a05d87f44bb0e8c24d&quot; style=&quot;width: 100.0%; height: 100.0%;&quot;&gt;&lt;b&gt;Hamburg (238 matches)&lt;b&gt;&lt;/div&gt;`)[0];\n",
       "                popup_9fa83eedae058406c746e79bf6c3e05a.setContent(html_9a801331e87f86a05d87f44bb0e8c24d);\n",
       "            \n",
       "        \n",
       "\n",
       "        marker_d5de1f1568ce53a3b392f482359bc21b.bindPopup(popup_9fa83eedae058406c746e79bf6c3e05a)\n",
       "        ;\n",
       "\n",
       "        \n",
       "    \n",
       "    \n",
       "            var marker_fea3727ee82a0d5138e94d762e754645 = L.marker(\n",
       "                [52.37052, 9.73322],\n",
       "                {}\n",
       "            ).addTo(map_9edfb77aa53533814928f75bb99b324d);\n",
       "        \n",
       "    \n",
       "        var popup_999774efdabadda58346b1a046e534f1 = L.popup({&quot;maxWidth&quot;: &quot;100%&quot;});\n",
       "\n",
       "        \n",
       "            \n",
       "                var html_606e43553aca6be6dbb475d472ace934 = $(`&lt;div id=&quot;html_606e43553aca6be6dbb475d472ace934&quot; style=&quot;width: 100.0%; height: 100.0%;&quot;&gt;&lt;b&gt;Hannover (221 matches)&lt;b&gt;&lt;/div&gt;`)[0];\n",
       "                popup_999774efdabadda58346b1a046e534f1.setContent(html_606e43553aca6be6dbb475d472ace934);\n",
       "            \n",
       "        \n",
       "\n",
       "        marker_fea3727ee82a0d5138e94d762e754645.bindPopup(popup_999774efdabadda58346b1a046e534f1)\n",
       "        ;\n",
       "\n",
       "        \n",
       "    \n",
       "    \n",
       "            var marker_fef71fade9249d5668e28c8d577ce02a = L.marker(\n",
       "                [47.9959, 7.85222],\n",
       "                {}\n",
       "            ).addTo(map_9edfb77aa53533814928f75bb99b324d);\n",
       "        \n",
       "    \n",
       "        var popup_e1c4ef3de31d8149c0c5faea64c4866b = L.popup({&quot;maxWidth&quot;: &quot;100%&quot;});\n",
       "\n",
       "        \n",
       "            \n",
       "                var html_2e85dc6b52d7190d77b7ab03aa24bda7 = $(`&lt;div id=&quot;html_2e85dc6b52d7190d77b7ab03aa24bda7&quot; style=&quot;width: 100.0%; height: 100.0%;&quot;&gt;&lt;b&gt;Freiburg (221 matches)&lt;b&gt;&lt;/div&gt;`)[0];\n",
       "                popup_e1c4ef3de31d8149c0c5faea64c4866b.setContent(html_2e85dc6b52d7190d77b7ab03aa24bda7);\n",
       "            \n",
       "        \n",
       "\n",
       "        marker_fef71fade9249d5668e28c8d577ce02a.bindPopup(popup_e1c4ef3de31d8149c0c5faea64c4866b)\n",
       "        ;\n",
       "\n",
       "        \n",
       "    \n",
       "    \n",
       "            var marker_510a422aecb7957503aa51ed2e095731 = L.marker(\n",
       "                [50.93333, 6.95],\n",
       "                {}\n",
       "            ).addTo(map_9edfb77aa53533814928f75bb99b324d);\n",
       "        \n",
       "    \n",
       "        var popup_dcbf528d1cdbfc4a4438fbabaa171367 = L.popup({&quot;maxWidth&quot;: &quot;100%&quot;});\n",
       "\n",
       "        \n",
       "            \n",
       "                var html_b0efdd6f39ddcc7dad804f38f1d7933d = $(`&lt;div id=&quot;html_b0efdd6f39ddcc7dad804f38f1d7933d&quot; style=&quot;width: 100.0%; height: 100.0%;&quot;&gt;&lt;b&gt;Köln (221 matches)&lt;b&gt;&lt;/div&gt;`)[0];\n",
       "                popup_dcbf528d1cdbfc4a4438fbabaa171367.setContent(html_b0efdd6f39ddcc7dad804f38f1d7933d);\n",
       "            \n",
       "        \n",
       "\n",
       "        marker_510a422aecb7957503aa51ed2e095731.bindPopup(popup_dcbf528d1cdbfc4a4438fbabaa171367)\n",
       "        ;\n",
       "\n",
       "        \n",
       "    \n",
       "    \n",
       "            var marker_f64c535135da9b7dc0ce98a5aff981e5 = L.marker(\n",
       "                [48.37154, 10.89851],\n",
       "                {}\n",
       "            ).addTo(map_9edfb77aa53533814928f75bb99b324d);\n",
       "        \n",
       "    \n",
       "        var popup_05fcba98fe734d4c8254fab1899c0e89 = L.popup({&quot;maxWidth&quot;: &quot;100%&quot;});\n",
       "\n",
       "        \n",
       "            \n",
       "                var html_3a2df21a279451ed6bcb832e0fad3a1d = $(`&lt;div id=&quot;html_3a2df21a279451ed6bcb832e0fad3a1d&quot; style=&quot;width: 100.0%; height: 100.0%;&quot;&gt;&lt;b&gt;Augsburg (204 matches)&lt;b&gt;&lt;/div&gt;`)[0];\n",
       "                popup_05fcba98fe734d4c8254fab1899c0e89.setContent(html_3a2df21a279451ed6bcb832e0fad3a1d);\n",
       "            \n",
       "        \n",
       "\n",
       "        marker_f64c535135da9b7dc0ce98a5aff981e5.bindPopup(popup_05fcba98fe734d4c8254fab1899c0e89)\n",
       "        ;\n",
       "\n",
       "        \n",
       "    \n",
       "    \n",
       "            var marker_319ba0c0d6aa401f0de076d9df00a80e = L.marker(\n",
       "                [49.45421, 11.07752],\n",
       "                {}\n",
       "            ).addTo(map_9edfb77aa53533814928f75bb99b324d);\n",
       "        \n",
       "    \n",
       "        var popup_d88feb483bdeea555a45bab51d2795bf = L.popup({&quot;maxWidth&quot;: &quot;100%&quot;});\n",
       "\n",
       "        \n",
       "            \n",
       "                var html_01e269c864072ecd09ff5f1bbdd33868 = $(`&lt;div id=&quot;html_01e269c864072ecd09ff5f1bbdd33868&quot; style=&quot;width: 100.0%; height: 100.0%;&quot;&gt;&lt;b&gt;Nürnberg (153 matches)&lt;b&gt;&lt;/div&gt;`)[0];\n",
       "                popup_d88feb483bdeea555a45bab51d2795bf.setContent(html_01e269c864072ecd09ff5f1bbdd33868);\n",
       "            \n",
       "        \n",
       "\n",
       "        marker_319ba0c0d6aa401f0de076d9df00a80e.bindPopup(popup_d88feb483bdeea555a45bab51d2795bf)\n",
       "        ;\n",
       "\n",
       "        \n",
       "    \n",
       "    \n",
       "            var marker_f7c5054659b30f294d9e94543cf7f814 = L.marker(\n",
       "                [51.33962, 12.37129],\n",
       "                {}\n",
       "            ).addTo(map_9edfb77aa53533814928f75bb99b324d);\n",
       "        \n",
       "    \n",
       "        var popup_fa28a015dcf81e189a9bb38949246886 = L.popup({&quot;maxWidth&quot;: &quot;100%&quot;});\n",
       "\n",
       "        \n",
       "            \n",
       "                var html_71423a61b33bc603907be92a4bad8317 = $(`&lt;div id=&quot;html_71423a61b33bc603907be92a4bad8317&quot; style=&quot;width: 100.0%; height: 100.0%;&quot;&gt;&lt;b&gt;Liepzig (119 matches)&lt;b&gt;&lt;/div&gt;`)[0];\n",
       "                popup_fa28a015dcf81e189a9bb38949246886.setContent(html_71423a61b33bc603907be92a4bad8317);\n",
       "            \n",
       "        \n",
       "\n",
       "        marker_f7c5054659b30f294d9e94543cf7f814.bindPopup(popup_fa28a015dcf81e189a9bb38949246886)\n",
       "        ;\n",
       "\n",
       "        \n",
       "    \n",
       "    \n",
       "            var marker_dbabb48330d029c597bd77ac86a9e7a0 = L.marker(\n",
       "                [51.48165, 7.21648],\n",
       "                {}\n",
       "            ).addTo(map_9edfb77aa53533814928f75bb99b324d);\n",
       "        \n",
       "    \n",
       "        var popup_636cb4705296a34b9cb3f3771d62d414 = L.popup({&quot;maxWidth&quot;: &quot;100%&quot;});\n",
       "\n",
       "        \n",
       "            \n",
       "                var html_7e280f643f298a44ebfc0a5fc3936d51 = $(`&lt;div id=&quot;html_7e280f643f298a44ebfc0a5fc3936d51&quot; style=&quot;width: 100.0%; height: 100.0%;&quot;&gt;&lt;b&gt;Bochum (102 matches)&lt;b&gt;&lt;/div&gt;`)[0];\n",
       "                popup_636cb4705296a34b9cb3f3771d62d414.setContent(html_7e280f643f298a44ebfc0a5fc3936d51);\n",
       "            \n",
       "        \n",
       "\n",
       "        marker_dbabb48330d029c597bd77ac86a9e7a0.bindPopup(popup_636cb4705296a34b9cb3f3771d62d414)\n",
       "        ;\n",
       "\n",
       "        \n",
       "    \n",
       "    \n",
       "            var marker_4c4d2df42587eb81b6f5da98cafd96ba = L.marker(\n",
       "                [52.03333, 8.53333],\n",
       "                {}\n",
       "            ).addTo(map_9edfb77aa53533814928f75bb99b324d);\n",
       "        \n",
       "    \n",
       "        var popup_b219c5d62d547402453ed04b8b234ffa = L.popup({&quot;maxWidth&quot;: &quot;100%&quot;});\n",
       "\n",
       "        \n",
       "            \n",
       "                var html_31ad0bda64ad56f58ffb754b68d66c8e = $(`&lt;div id=&quot;html_31ad0bda64ad56f58ffb754b68d66c8e&quot; style=&quot;width: 100.0%; height: 100.0%;&quot;&gt;&lt;b&gt;Bielefeld (102 matches)&lt;b&gt;&lt;/div&gt;`)[0];\n",
       "                popup_b219c5d62d547402453ed04b8b234ffa.setContent(html_31ad0bda64ad56f58ffb754b68d66c8e);\n",
       "            \n",
       "        \n",
       "\n",
       "        marker_4c4d2df42587eb81b6f5da98cafd96ba.bindPopup(popup_b219c5d62d547402453ed04b8b234ffa)\n",
       "        ;\n",
       "\n",
       "        \n",
       "    \n",
       "    \n",
       "            var marker_c432df21b99c2ff95c764c5b14515fbd = L.marker(\n",
       "                [51.75769, 14.32888],\n",
       "                {}\n",
       "            ).addTo(map_9edfb77aa53533814928f75bb99b324d);\n",
       "        \n",
       "    \n",
       "        var popup_fc0741364ebeab7849461576bf6995da = L.popup({&quot;maxWidth&quot;: &quot;100%&quot;});\n",
       "\n",
       "        \n",
       "            \n",
       "                var html_7dabd42e64026fef21ecc301a3f6da00 = $(`&lt;div id=&quot;html_7dabd42e64026fef21ecc301a3f6da00&quot; style=&quot;width: 100.0%; height: 100.0%;&quot;&gt;&lt;b&gt;Cottbus (51 matches)&lt;b&gt;&lt;/div&gt;`)[0];\n",
       "                popup_fc0741364ebeab7849461576bf6995da.setContent(html_7dabd42e64026fef21ecc301a3f6da00);\n",
       "            \n",
       "        \n",
       "\n",
       "        marker_c432df21b99c2ff95c764c5b14515fbd.bindPopup(popup_fc0741364ebeab7849461576bf6995da)\n",
       "        ;\n",
       "\n",
       "        \n",
       "    \n",
       "    \n",
       "            var marker_ccdf4dd4fb128eda5b241ffc2bc9db07 = L.marker(\n",
       "                [49.443, 7.77161],\n",
       "                {}\n",
       "            ).addTo(map_9edfb77aa53533814928f75bb99b324d);\n",
       "        \n",
       "    \n",
       "        var popup_b53b5ea34a604edf17fc5ccff27586e5 = L.popup({&quot;maxWidth&quot;: &quot;100%&quot;});\n",
       "\n",
       "        \n",
       "            \n",
       "                var html_50718ac264d63a3da0276de34af91011 = $(`&lt;div id=&quot;html_50718ac264d63a3da0276de34af91011&quot; style=&quot;width: 100.0%; height: 100.0%;&quot;&gt;&lt;b&gt;Kaiserslautern (51 matches)&lt;b&gt;&lt;/div&gt;`)[0];\n",
       "                popup_b53b5ea34a604edf17fc5ccff27586e5.setContent(html_50718ac264d63a3da0276de34af91011);\n",
       "            \n",
       "        \n",
       "\n",
       "        marker_ccdf4dd4fb128eda5b241ffc2bc9db07.bindPopup(popup_b53b5ea34a604edf17fc5ccff27586e5)\n",
       "        ;\n",
       "\n",
       "        \n",
       "    \n",
       "    \n",
       "            var marker_e961b00f52120493241b7fe0eef95b05 = L.marker(\n",
       "                [51.22172, 6.77616],\n",
       "                {}\n",
       "            ).addTo(map_9edfb77aa53533814928f75bb99b324d);\n",
       "        \n",
       "    \n",
       "        var popup_6346b9fca00c0e538c6b78b6a50f6ba0 = L.popup({&quot;maxWidth&quot;: &quot;100%&quot;});\n",
       "\n",
       "        \n",
       "            \n",
       "                var html_3a2dcac8db380e24e365c1b91838f8e3 = $(`&lt;div id=&quot;html_3a2dcac8db380e24e365c1b91838f8e3&quot; style=&quot;width: 100.0%; height: 100.0%;&quot;&gt;&lt;b&gt;Düsseldorf (51 matches)&lt;b&gt;&lt;/div&gt;`)[0];\n",
       "                popup_6346b9fca00c0e538c6b78b6a50f6ba0.setContent(html_3a2dcac8db380e24e365c1b91838f8e3);\n",
       "            \n",
       "        \n",
       "\n",
       "        marker_e961b00f52120493241b7fe0eef95b05.bindPopup(popup_6346b9fca00c0e538c6b78b6a50f6ba0)\n",
       "        ;\n",
       "\n",
       "        \n",
       "    \n",
       "    \n",
       "            var marker_6bf0d32e1160df1522b0470437231aae = L.marker(\n",
       "                [49.00937, 8.40444],\n",
       "                {}\n",
       "            ).addTo(map_9edfb77aa53533814928f75bb99b324d);\n",
       "        \n",
       "    \n",
       "        var popup_129aacb1a6b19e7019af8389f6b9cd8d = L.popup({&quot;maxWidth&quot;: &quot;100%&quot;});\n",
       "\n",
       "        \n",
       "            \n",
       "                var html_34a529ae67085c2368f45c36e733b86d = $(`&lt;div id=&quot;html_34a529ae67085c2368f45c36e733b86d&quot; style=&quot;width: 100.0%; height: 100.0%;&quot;&gt;&lt;b&gt;Karlsruhe (34 matches)&lt;b&gt;&lt;/div&gt;`)[0];\n",
       "                popup_129aacb1a6b19e7019af8389f6b9cd8d.setContent(html_34a529ae67085c2368f45c36e733b86d);\n",
       "            \n",
       "        \n",
       "\n",
       "        marker_6bf0d32e1160df1522b0470437231aae.bindPopup(popup_129aacb1a6b19e7019af8389f6b9cd8d)\n",
       "        ;\n",
       "\n",
       "        \n",
       "    \n",
       "    \n",
       "            var marker_b42dea0d2b8179eef79db98bb902e690 = L.marker(\n",
       "                [51.43247, 6.76516],\n",
       "                {}\n",
       "            ).addTo(map_9edfb77aa53533814928f75bb99b324d);\n",
       "        \n",
       "    \n",
       "        var popup_5a241d064cdafc6a3bd57a68d3afe62d = L.popup({&quot;maxWidth&quot;: &quot;100%&quot;});\n",
       "\n",
       "        \n",
       "            \n",
       "                var html_e7df8b5d1f847c26b72986a486b3e21d = $(`&lt;div id=&quot;html_e7df8b5d1f847c26b72986a486b3e21d&quot; style=&quot;width: 100.0%; height: 100.0%;&quot;&gt;&lt;b&gt;Duisburg (34 matches)&lt;b&gt;&lt;/div&gt;`)[0];\n",
       "                popup_5a241d064cdafc6a3bd57a68d3afe62d.setContent(html_e7df8b5d1f847c26b72986a486b3e21d);\n",
       "            \n",
       "        \n",
       "\n",
       "        marker_b42dea0d2b8179eef79db98bb902e690.bindPopup(popup_5a241d064cdafc6a3bd57a68d3afe62d)\n",
       "        ;\n",
       "\n",
       "        \n",
       "    \n",
       "    \n",
       "            var marker_e387321798d015b5880c4f23b30fcd3c = L.marker(\n",
       "                [49.47593, 10.98856],\n",
       "                {}\n",
       "            ).addTo(map_9edfb77aa53533814928f75bb99b324d);\n",
       "        \n",
       "    \n",
       "        var popup_dac8381899323bd6d169a41b33ef783b = L.popup({&quot;maxWidth&quot;: &quot;100%&quot;});\n",
       "\n",
       "        \n",
       "            \n",
       "                var html_7b7e102cedecb1ae009c6ea7bff462a2 = $(`&lt;div id=&quot;html_7b7e102cedecb1ae009c6ea7bff462a2&quot; style=&quot;width: 100.0%; height: 100.0%;&quot;&gt;&lt;b&gt;Fürth (34 matches)&lt;b&gt;&lt;/div&gt;`)[0];\n",
       "                popup_dac8381899323bd6d169a41b33ef783b.setContent(html_7b7e102cedecb1ae009c6ea7bff462a2);\n",
       "            \n",
       "        \n",
       "\n",
       "        marker_e387321798d015b5880c4f23b30fcd3c.bindPopup(popup_dac8381899323bd6d169a41b33ef783b)\n",
       "        ;\n",
       "\n",
       "        \n",
       "    \n",
       "    \n",
       "            var marker_8a6592c57e12841c631a3e0d016d8c2b = L.marker(\n",
       "                [51.71905, 8.75439],\n",
       "                {}\n",
       "            ).addTo(map_9edfb77aa53533814928f75bb99b324d);\n",
       "        \n",
       "    \n",
       "        var popup_ac4aaf80e5ea48d5e933f937a0b74b92 = L.popup({&quot;maxWidth&quot;: &quot;100%&quot;});\n",
       "\n",
       "        \n",
       "            \n",
       "                var html_ee69964f7665952465d9cea40d0745b9 = $(`&lt;div id=&quot;html_ee69964f7665952465d9cea40d0745b9&quot; style=&quot;width: 100.0%; height: 100.0%;&quot;&gt;&lt;b&gt;Paderborn (34 matches)&lt;b&gt;&lt;/div&gt;`)[0];\n",
       "                popup_ac4aaf80e5ea48d5e933f937a0b74b92.setContent(html_ee69964f7665952465d9cea40d0745b9);\n",
       "            \n",
       "        \n",
       "\n",
       "        marker_8a6592c57e12841c631a3e0d016d8c2b.bindPopup(popup_ac4aaf80e5ea48d5e933f937a0b74b92)\n",
       "        ;\n",
       "\n",
       "        \n",
       "    \n",
       "    \n",
       "            var marker_159e10dd59e2bd4b1a953e92301a8603 = L.marker(\n",
       "                [49.87167, 8.65027],\n",
       "                {}\n",
       "            ).addTo(map_9edfb77aa53533814928f75bb99b324d);\n",
       "        \n",
       "    \n",
       "        var popup_e8c0e20b88eac52bf781382a47f30dfb = L.popup({&quot;maxWidth&quot;: &quot;100%&quot;});\n",
       "\n",
       "        \n",
       "            \n",
       "                var html_8c9f66e614e9f1ec38c40404a70fda72 = $(`&lt;div id=&quot;html_8c9f66e614e9f1ec38c40404a70fda72&quot; style=&quot;width: 100.0%; height: 100.0%;&quot;&gt;&lt;b&gt;Darmstadt (34 matches)&lt;b&gt;&lt;/div&gt;`)[0];\n",
       "                popup_e8c0e20b88eac52bf781382a47f30dfb.setContent(html_8c9f66e614e9f1ec38c40404a70fda72);\n",
       "            \n",
       "        \n",
       "\n",
       "        marker_159e10dd59e2bd4b1a953e92301a8603.bindPopup(popup_e8c0e20b88eac52bf781382a47f30dfb)\n",
       "        ;\n",
       "\n",
       "        \n",
       "    \n",
       "    \n",
       "            var marker_be94ec8fc3a150ae863388ce81edc8a6 = L.marker(\n",
       "                [48.76508, 11.42372],\n",
       "                {}\n",
       "            ).addTo(map_9edfb77aa53533814928f75bb99b324d);\n",
       "        \n",
       "    \n",
       "        var popup_cf64adae6507cbbf3107b0cb6470ac65 = L.popup({&quot;maxWidth&quot;: &quot;100%&quot;});\n",
       "\n",
       "        \n",
       "            \n",
       "                var html_a827a70d2dc745f16ef09b95213b1bd6 = $(`&lt;div id=&quot;html_a827a70d2dc745f16ef09b95213b1bd6&quot; style=&quot;width: 100.0%; height: 100.0%;&quot;&gt;&lt;b&gt;Ingolstadt (34 matches)&lt;b&gt;&lt;/div&gt;`)[0];\n",
       "                popup_cf64adae6507cbbf3107b0cb6470ac65.setContent(html_a827a70d2dc745f16ef09b95213b1bd6);\n",
       "            \n",
       "        \n",
       "\n",
       "        marker_be94ec8fc3a150ae863388ce81edc8a6.bindPopup(popup_cf64adae6507cbbf3107b0cb6470ac65)\n",
       "        ;\n",
       "\n",
       "        \n",
       "    \n",
       "    \n",
       "            var marker_fd62dbdc3bd4e1ffb06b1089496a517c = L.marker(\n",
       "                [50.77664, 6.08342],\n",
       "                {}\n",
       "            ).addTo(map_9edfb77aa53533814928f75bb99b324d);\n",
       "        \n",
       "    \n",
       "        var popup_d7c53f1db1c74ab82de4cf97a7eadcda = L.popup({&quot;maxWidth&quot;: &quot;100%&quot;});\n",
       "\n",
       "        \n",
       "            \n",
       "                var html_887f9b815d16f1b97428897aaf33d5b5 = $(`&lt;div id=&quot;html_887f9b815d16f1b97428897aaf33d5b5&quot; style=&quot;width: 100.0%; height: 100.0%;&quot;&gt;&lt;b&gt;Aachen (17 matches)&lt;b&gt;&lt;/div&gt;`)[0];\n",
       "                popup_d7c53f1db1c74ab82de4cf97a7eadcda.setContent(html_887f9b815d16f1b97428897aaf33d5b5);\n",
       "            \n",
       "        \n",
       "\n",
       "        marker_fd62dbdc3bd4e1ffb06b1089496a517c.bindPopup(popup_d7c53f1db1c74ab82de4cf97a7eadcda)\n",
       "        ;\n",
       "\n",
       "        \n",
       "    \n",
       "    \n",
       "            var marker_14743bfdb5630d16d48a675c5d62cffc = L.marker(\n",
       "                [52.26594, 10.52673],\n",
       "                {}\n",
       "            ).addTo(map_9edfb77aa53533814928f75bb99b324d);\n",
       "        \n",
       "    \n",
       "        var popup_9903826df1fbda9089413ee6692a4453 = L.popup({&quot;maxWidth&quot;: &quot;100%&quot;});\n",
       "\n",
       "        \n",
       "            \n",
       "                var html_2160c68d55d884471cc32410d857e91d = $(`&lt;div id=&quot;html_2160c68d55d884471cc32410d857e91d&quot; style=&quot;width: 100.0%; height: 100.0%;&quot;&gt;&lt;b&gt;Braunschweig (17 matches)&lt;b&gt;&lt;/div&gt;`)[0];\n",
       "                popup_9903826df1fbda9089413ee6692a4453.setContent(html_2160c68d55d884471cc32410d857e91d);\n",
       "            \n",
       "        \n",
       "\n",
       "        marker_14743bfdb5630d16d48a675c5d62cffc.bindPopup(popup_9903826df1fbda9089413ee6692a4453)\n",
       "        ;\n",
       "\n",
       "        \n",
       "    \n",
       "    \n",
       "            var marker_a8321c6ddb5b7bf5eb75ba017270a333 = L.marker(\n",
       "                [54.0887, 12.14049],\n",
       "                {}\n",
       "            ).addTo(map_9edfb77aa53533814928f75bb99b324d);\n",
       "        \n",
       "    \n",
       "        var popup_e2d52a2bc43c2135cc7d8c49036b03cf = L.popup({&quot;maxWidth&quot;: &quot;100%&quot;});\n",
       "\n",
       "        \n",
       "            \n",
       "                var html_3be416751878d2f3eb9dea653dcbe28e = $(`&lt;div id=&quot;html_3be416751878d2f3eb9dea653dcbe28e&quot; style=&quot;width: 100.0%; height: 100.0%;&quot;&gt;&lt;b&gt;Rostock (17 matches)&lt;b&gt;&lt;/div&gt;`)[0];\n",
       "                popup_e2d52a2bc43c2135cc7d8c49036b03cf.setContent(html_3be416751878d2f3eb9dea653dcbe28e);\n",
       "            \n",
       "        \n",
       "\n",
       "        marker_a8321c6ddb5b7bf5eb75ba017270a333.bindPopup(popup_e2d52a2bc43c2135cc7d8c49036b03cf)\n",
       "        ;\n",
       "\n",
       "        \n",
       "    \n",
       "&lt;/script&gt;\n",
       "&lt;/html&gt;\" style=\"position:absolute;width:100%;height:100%;left:0;top:0;border:none !important;\" allowfullscreen webkitallowfullscreen mozallowfullscreen></iframe></div></div>"
      ],
      "text/plain": [
       "<folium.folium.Map at 0x15431161ab0>"
      ]
     },
     "execution_count": 12,
     "metadata": {},
     "output_type": "execute_result"
    }
   ],
   "source": [
    "map = folium.Map(location = [51.00, 9.00],\n",
    "                 zoom_start = 6)\n",
    "\n",
    "folium.Marker([52.5243700, 13.4105300],\n",
    "              popup = '<b>Berlin (340 matches)<b>').add_to(map)\n",
    "folium.Marker([48.1374300, 11.5754900],\n",
    "              popup = '<b>München (306 matches)<b>').add_to(map)\n",
    "folium.Marker([52.416667, 10.783333],\n",
    "              popup = '<b>Wolfsburg (306 matches)<b>').add_to(map)\n",
    "folium.Marker([51.5149400, 7.4660000],\n",
    "              popup = '<b>Dortmund (306 matches)<b>').add_to(map)\n",
    "folium.Marker([51.0303000, 6.9843200],\n",
    "              popup = '<b>Leverkusen (306 matches)<b>').add_to(map)\n",
    "folium.Marker([51.1853900, 6.4417200],\n",
    "              popup = '<b>Gladbach (289 matches)<b>').add_to(map)\n",
    "folium.Marker([53.0751600, 8.8077700],\n",
    "              popup = '<b>Bremen (289 matches)<b>').add_to(map)\n",
    "folium.Marker([51.5075000, 7.1228300],\n",
    "              popup = '<b> Gelsenkirchen (289 matches)<b>').add_to(map)\n",
    "folium.Marker([50.1155200, 8.6841700],\n",
    "              popup = '<b>Franfurt (289 matches)<b>').add_to(map)\n",
    "folium.Marker([49.9841900, 8.2791000],\n",
    "              popup = '<b>Mainz (272 matches)<b>').add_to(map)\n",
    "folium.Marker([48.7823200, 9.1770200],\n",
    "              popup = '<b>Stuttgart (272 matches)<b>').add_to(map)\n",
    "folium.Marker([49.2529000, 8.8786700],\n",
    "              popup = '<b>Sinsheim (255 matches)<b>').add_to(map)\n",
    "folium.Marker([53.5753200, 10.0153400],\n",
    "              popup = '<b>Hamburg (238 matches)<b>').add_to(map)\n",
    "folium.Marker([52.3705200, 9.7332200],\n",
    "              popup = '<b>Hannover (221 matches)<b>').add_to(map)\n",
    "folium.Marker([47.9959000, 7.8522200],\n",
    "              popup = '<b>Freiburg (221 matches)<b>').add_to(map)\n",
    "folium.Marker([50.9333300, 6.9500000],\n",
    "              popup = '<b>Köln (221 matches)<b>').add_to(map)\n",
    "folium.Marker([48.3715400, 10.8985100],\n",
    "              popup = '<b>Augsburg (204 matches)<b>').add_to(map)\n",
    "folium.Marker([49.4542100, 11.0775200],\n",
    "              popup = '<b>Nürnberg (153 matches)<b>').add_to(map)\n",
    "folium.Marker([51.3396200, 12.3712900],\n",
    "              popup = '<b>Liepzig (119 matches)<b>').add_to(map)\n",
    "folium.Marker([51.4816500, 7.2164800],\n",
    "              popup = '<b>Bochum (102 matches)<b>').add_to(map)\n",
    "folium.Marker([52.0333300, 8.5333300],\n",
    "              popup = '<b>Bielefeld (102 matches)<b>').add_to(map)\n",
    "folium.Marker([51.7576900, 14.3288800],\n",
    "              popup = '<b>Cottbus (51 matches)<b>').add_to(map)\n",
    "folium.Marker([49.4430000, 7.7716100],\n",
    "              popup = '<b>Kaiserslautern (51 matches)<b>').add_to(map)\n",
    "folium.Marker([51.2217200, 6.7761600],\n",
    "              popup = '<b>Düsseldorf (51 matches)<b>').add_to(map)\n",
    "folium.Marker([49.0093700, 8.4044400],\n",
    "              popup = '<b>Karlsruhe (34 matches)<b>').add_to(map)\n",
    "folium.Marker([51.4324700, 6.7651600],\n",
    "              popup = '<b>Duisburg (34 matches)<b>').add_to(map)\n",
    "folium.Marker([49.4759300, 10.9885600],\n",
    "              popup = '<b>Fürth (34 matches)<b>').add_to(map)\n",
    "folium.Marker([51.7190500, 8.7543900],\n",
    "              popup = '<b>Paderborn (34 matches)<b>').add_to(map)\n",
    "folium.Marker([49.8716700, 8.6502700],\n",
    "              popup = '<b>Darmstadt (34 matches)<b>').add_to(map)\n",
    "folium.Marker([48.7650800, 11.4237200],\n",
    "              popup = '<b>Ingolstadt (34 matches)<b>').add_to(map)\n",
    "folium.Marker([50.7766400, 6.0834200],\n",
    "              popup = '<b>Aachen (17 matches)<b>').add_to(map)\n",
    "folium.Marker([52.2659400, 10.5267300],\n",
    "              popup = '<b>Braunschweig (17 matches)<b>').add_to(map)\n",
    "folium.Marker([54.0887000, 12.1404900],\n",
    "              popup = '<b>Rostock (17 matches)<b>').add_to(map)\n",
    "\n",
    "map"
   ]
  },
  {
   "attachments": {},
   "cell_type": "markdown",
   "id": "26f38713",
   "metadata": {},
   "source": [
    "Po rozmieszczeniu miast na mapie Niemiec widać, że rozkład jest dość równomierny. Istnieją jednak duże skupiska miast, które grały w Budneslidze we wspomnianych sezonach w bardziej zachodniej i południowej części kraju. Największa koncentracja występuje we wschodniej części, w tzw. Zagłębiu Ruhry, przemysłowym sercu Niemiec. Miasta takie jak Dortmund, Gelsenkirchen, Bochum czy Duisburg są blisko siebie. W pobliżu znajdują się również Kolonia, Akwizgran, Düsseldorf, Leverkusen i Gladbach.\n",
    "\n",
    "After the distribution of cities on the map of Germany, can see that fairly even distribution. However, there are large clusters of cities that played in Budnesliga in the aforementioned seasons in the more western and southern parts of the contry. The largest concentration is in the eastern part, in the so-caller Ruhr area, the industrial heartland of Germany. Cieties such as Dortmund, Gelsenkirchen, Bochum or Duisburg are close to each other. Are also close Köln, Aachen, Düsseldorf, Leverkusen and Gladbach."
   ]
  },
  {
   "attachments": {},
   "cell_type": "markdown",
   "id": "54a6bdfb",
   "metadata": {},
   "source": [
    "### Analiza widzów/Viewiers analysis"
   ]
  },
  {
   "cell_type": "code",
   "execution_count": 13,
   "id": "add96b7b",
   "metadata": {},
   "outputs": [
    {
     "name": "stdout",
     "output_type": "stream",
     "text": [
      "Liczba rekordów w kolumnie viewer/Number of records in viewer column: 5508\n",
      "Liczba wartości NaN w kolumnie viewer/Number NaN values in viewer column: 3826\n",
      "Liczba wartości nie NaN w kolumnie viewer/Number not NaN values in the viewer column: 1682\n",
      "Procentowy rozkład wartości NaN do wszystkich rekordów w kolumnie viewer/Percentage of NaN values to all records in viewer columns: 0.6946259985475671\n"
     ]
    }
   ],
   "source": [
    "print(f'Liczba rekordów w kolumnie viewer/Number of records in viewer column: {len(df[\"viewer\"])}')\n",
    "print(f'Liczba wartości NaN w kolumnie viewer/Number NaN values in viewer column: {df[\"viewer\"].isna().sum()}')\n",
    "print(f'Liczba wartości nie NaN w kolumnie viewer/Number not NaN values in the viewer column: {df[\"viewer\"].count()}')\n",
    "print(f'Procentowy rozkład wartości NaN do wszystkich rekordów w kolumnie viewer/Percentage of NaN values to all records in viewer columns: {df[\"viewer\"].isna().sum() / len(df[\"viewer\"])}')"
   ]
  },
  {
   "cell_type": "code",
   "execution_count": 14,
   "id": "d849d128",
   "metadata": {},
   "outputs": [
    {
     "data": {
      "text/plain": [
       "count     1682.000000\n",
       "mean     41841.023781\n",
       "std      18057.421146\n",
       "min          0.000000\n",
       "25%      28176.250000\n",
       "50%      41000.000000\n",
       "75%      52121.000000\n",
       "max      81365.000000\n",
       "Name: viewer, dtype: float64"
      ]
     },
     "execution_count": 14,
     "metadata": {},
     "output_type": "execute_result"
    }
   ],
   "source": [
    "df['viewer'].describe()"
   ]
  },
  {
   "attachments": {},
   "cell_type": "markdown",
   "id": "28819f3a",
   "metadata": {},
   "source": [
    "Prawie 70% wszystkich wartości w kolumnach to wartości NaN. Dlatego dalsza analiza nie ma większego sensu przy tak dużym braku danych. Po wykonaniu metody describe() na wartościach innych niż NaN widać, że uwzględniane są nawet wartości 0.0, co ma miejsce tylko w przypadku zamkniętych stadionów. Poza tym wartości są dość realistyczne i rozkładają się bardzo równomiernie.\n",
    "\n",
    "Almost 70% of all values int he columns are NaN values. Therefore, further analysis doesn't make much sense with such a large lack of data. After doing describe() on not NaN values you can see that even 0.0 values are included, which happens only in the case closed stadiums. Besides, the values are quite realistic and are distributed very evenly. "
   ]
  },
  {
   "cell_type": "markdown",
   "id": "9e7e4cc8",
   "metadata": {},
   "source": [
    "### Analiza meczów drużyn/Analysis of team matches"
   ]
  },
  {
   "cell_type": "code",
   "execution_count": 15,
   "id": "89a1119d",
   "metadata": {},
   "outputs": [],
   "source": [
    "'''Utworzenie pomocniczego dataframe df_home.\n",
    "Creating auxiliary dataset df_home.'''\n",
    "df_home = df['home_team_name'].value_counts().reset_index()\n",
    "df_home.columns = ['team_home', 'matches_home']\n",
    "df_home.sort_values(by = 'team_home', inplace = True)\n",
    "\n",
    "'''Utworzenie pomocniczego dataframe df_away.\n",
    "Creating auxiliary dataset df_away.'''\n",
    "df_away = df['away_team_name'].value_counts().reset_index()\n",
    "df_away.columns = ['team_away', 'matches_away']\n",
    "df_away.sort_values(by = 'team_away', inplace = True)\n",
    "\n",
    "'''Połączenie dwóch pomocniczych datasetów w jeden potrzebny do analizy meczów.\n",
    "Merging two auxiliary datasets to one necessary to matches analysis'''\n",
    "df_matches = pd.merge(df_home, df_away['matches_away'], left_index = True, right_index = True)\n",
    "df_matches.columns = ['team', 'matches_home', 'matches_away']"
   ]
  },
  {
   "cell_type": "code",
   "execution_count": 16,
   "id": "8c732446",
   "metadata": {},
   "outputs": [
    {
     "data": {
      "text/html": [
       "<div>\n",
       "<style scoped>\n",
       "    .dataframe tbody tr th:only-of-type {\n",
       "        vertical-align: middle;\n",
       "    }\n",
       "\n",
       "    .dataframe tbody tr th {\n",
       "        vertical-align: top;\n",
       "    }\n",
       "\n",
       "    .dataframe thead th {\n",
       "        text-align: right;\n",
       "    }\n",
       "</style>\n",
       "<table border=\"1\" class=\"dataframe\">\n",
       "  <thead>\n",
       "    <tr style=\"text-align: right;\">\n",
       "      <th></th>\n",
       "      <th>team</th>\n",
       "      <th>matches_home</th>\n",
       "      <th>matches_away</th>\n",
       "      <th>total_matches</th>\n",
       "    </tr>\n",
       "  </thead>\n",
       "  <tbody>\n",
       "    <tr>\n",
       "      <th>0</th>\n",
       "      <td>FC St. Pauli</td>\n",
       "      <td>17</td>\n",
       "      <td>17</td>\n",
       "      <td>34</td>\n",
       "    </tr>\n",
       "    <tr>\n",
       "      <th>1</th>\n",
       "      <td>Alemannia Aachen</td>\n",
       "      <td>17</td>\n",
       "      <td>17</td>\n",
       "      <td>34</td>\n",
       "    </tr>\n",
       "    <tr>\n",
       "      <th>2</th>\n",
       "      <td>FC Hansa Rostock</td>\n",
       "      <td>17</td>\n",
       "      <td>17</td>\n",
       "      <td>34</td>\n",
       "    </tr>\n",
       "    <tr>\n",
       "      <th>3</th>\n",
       "      <td>Eintracht Braunschweig</td>\n",
       "      <td>17</td>\n",
       "      <td>17</td>\n",
       "      <td>34</td>\n",
       "    </tr>\n",
       "    <tr>\n",
       "      <th>4</th>\n",
       "      <td>SV Darmstadt 98</td>\n",
       "      <td>34</td>\n",
       "      <td>34</td>\n",
       "      <td>68</td>\n",
       "    </tr>\n",
       "    <tr>\n",
       "      <th>5</th>\n",
       "      <td>MSV Duisburg</td>\n",
       "      <td>34</td>\n",
       "      <td>34</td>\n",
       "      <td>68</td>\n",
       "    </tr>\n",
       "    <tr>\n",
       "      <th>6</th>\n",
       "      <td>Karlsruher SC</td>\n",
       "      <td>34</td>\n",
       "      <td>34</td>\n",
       "      <td>68</td>\n",
       "    </tr>\n",
       "    <tr>\n",
       "      <th>7</th>\n",
       "      <td>SC Paderborn 07</td>\n",
       "      <td>34</td>\n",
       "      <td>34</td>\n",
       "      <td>68</td>\n",
       "    </tr>\n",
       "    <tr>\n",
       "      <th>8</th>\n",
       "      <td>FC Ingolstadt 04</td>\n",
       "      <td>34</td>\n",
       "      <td>34</td>\n",
       "      <td>68</td>\n",
       "    </tr>\n",
       "    <tr>\n",
       "      <th>9</th>\n",
       "      <td>SpVgg Greuther Fürth</td>\n",
       "      <td>34</td>\n",
       "      <td>34</td>\n",
       "      <td>68</td>\n",
       "    </tr>\n",
       "    <tr>\n",
       "      <th>10</th>\n",
       "      <td>Fortuna Düsseldorf</td>\n",
       "      <td>51</td>\n",
       "      <td>51</td>\n",
       "      <td>102</td>\n",
       "    </tr>\n",
       "    <tr>\n",
       "      <th>11</th>\n",
       "      <td>FC Energie Cottbus</td>\n",
       "      <td>51</td>\n",
       "      <td>51</td>\n",
       "      <td>102</td>\n",
       "    </tr>\n",
       "    <tr>\n",
       "      <th>12</th>\n",
       "      <td>1. FC Kaiserslautern</td>\n",
       "      <td>51</td>\n",
       "      <td>51</td>\n",
       "      <td>102</td>\n",
       "    </tr>\n",
       "    <tr>\n",
       "      <th>13</th>\n",
       "      <td>1. FC Union Berlin</td>\n",
       "      <td>68</td>\n",
       "      <td>68</td>\n",
       "      <td>136</td>\n",
       "    </tr>\n",
       "    <tr>\n",
       "      <th>14</th>\n",
       "      <td>VfL Bochum</td>\n",
       "      <td>102</td>\n",
       "      <td>102</td>\n",
       "      <td>204</td>\n",
       "    </tr>\n",
       "    <tr>\n",
       "      <th>15</th>\n",
       "      <td>Arminia Bielefeld</td>\n",
       "      <td>102</td>\n",
       "      <td>102</td>\n",
       "      <td>204</td>\n",
       "    </tr>\n",
       "    <tr>\n",
       "      <th>16</th>\n",
       "      <td>RB Leipzig</td>\n",
       "      <td>119</td>\n",
       "      <td>119</td>\n",
       "      <td>238</td>\n",
       "    </tr>\n",
       "    <tr>\n",
       "      <th>17</th>\n",
       "      <td>1. FC Nürnberg</td>\n",
       "      <td>153</td>\n",
       "      <td>153</td>\n",
       "      <td>306</td>\n",
       "    </tr>\n",
       "    <tr>\n",
       "      <th>18</th>\n",
       "      <td>FC Augsburg</td>\n",
       "      <td>204</td>\n",
       "      <td>204</td>\n",
       "      <td>408</td>\n",
       "    </tr>\n",
       "    <tr>\n",
       "      <th>19</th>\n",
       "      <td>Hamburger SV</td>\n",
       "      <td>221</td>\n",
       "      <td>221</td>\n",
       "      <td>442</td>\n",
       "    </tr>\n",
       "    <tr>\n",
       "      <th>20</th>\n",
       "      <td>Hannover 96</td>\n",
       "      <td>221</td>\n",
       "      <td>221</td>\n",
       "      <td>442</td>\n",
       "    </tr>\n",
       "    <tr>\n",
       "      <th>21</th>\n",
       "      <td>1. FC Köln</td>\n",
       "      <td>221</td>\n",
       "      <td>221</td>\n",
       "      <td>442</td>\n",
       "    </tr>\n",
       "    <tr>\n",
       "      <th>22</th>\n",
       "      <td>SC Freiburg</td>\n",
       "      <td>221</td>\n",
       "      <td>221</td>\n",
       "      <td>442</td>\n",
       "    </tr>\n",
       "    <tr>\n",
       "      <th>23</th>\n",
       "      <td>TSG 1899 Hoffenheim</td>\n",
       "      <td>255</td>\n",
       "      <td>255</td>\n",
       "      <td>510</td>\n",
       "    </tr>\n",
       "    <tr>\n",
       "      <th>24</th>\n",
       "      <td>VfB Stuttgart</td>\n",
       "      <td>272</td>\n",
       "      <td>272</td>\n",
       "      <td>544</td>\n",
       "    </tr>\n",
       "    <tr>\n",
       "      <th>25</th>\n",
       "      <td>1. FSV Mainz 05</td>\n",
       "      <td>272</td>\n",
       "      <td>272</td>\n",
       "      <td>544</td>\n",
       "    </tr>\n",
       "    <tr>\n",
       "      <th>26</th>\n",
       "      <td>Hertha BSC</td>\n",
       "      <td>272</td>\n",
       "      <td>272</td>\n",
       "      <td>544</td>\n",
       "    </tr>\n",
       "    <tr>\n",
       "      <th>27</th>\n",
       "      <td>FC Schalke 04</td>\n",
       "      <td>289</td>\n",
       "      <td>289</td>\n",
       "      <td>578</td>\n",
       "    </tr>\n",
       "    <tr>\n",
       "      <th>28</th>\n",
       "      <td>Eintracht Frankfurt</td>\n",
       "      <td>289</td>\n",
       "      <td>289</td>\n",
       "      <td>578</td>\n",
       "    </tr>\n",
       "    <tr>\n",
       "      <th>29</th>\n",
       "      <td>Borussia Mönchengladbach</td>\n",
       "      <td>289</td>\n",
       "      <td>289</td>\n",
       "      <td>578</td>\n",
       "    </tr>\n",
       "    <tr>\n",
       "      <th>30</th>\n",
       "      <td>Werder Bremen</td>\n",
       "      <td>289</td>\n",
       "      <td>289</td>\n",
       "      <td>578</td>\n",
       "    </tr>\n",
       "    <tr>\n",
       "      <th>31</th>\n",
       "      <td>FC Bayern München</td>\n",
       "      <td>306</td>\n",
       "      <td>306</td>\n",
       "      <td>612</td>\n",
       "    </tr>\n",
       "    <tr>\n",
       "      <th>32</th>\n",
       "      <td>Borussia Dortmund</td>\n",
       "      <td>306</td>\n",
       "      <td>306</td>\n",
       "      <td>612</td>\n",
       "    </tr>\n",
       "    <tr>\n",
       "      <th>33</th>\n",
       "      <td>Bayer Leverkusen</td>\n",
       "      <td>306</td>\n",
       "      <td>306</td>\n",
       "      <td>612</td>\n",
       "    </tr>\n",
       "    <tr>\n",
       "      <th>34</th>\n",
       "      <td>VfL Wolfsburg</td>\n",
       "      <td>306</td>\n",
       "      <td>306</td>\n",
       "      <td>612</td>\n",
       "    </tr>\n",
       "  </tbody>\n",
       "</table>\n",
       "</div>"
      ],
      "text/plain": [
       "                        team  matches_home  matches_away  total_matches\n",
       "0               FC St. Pauli            17            17             34\n",
       "1           Alemannia Aachen            17            17             34\n",
       "2           FC Hansa Rostock            17            17             34\n",
       "3     Eintracht Braunschweig            17            17             34\n",
       "4            SV Darmstadt 98            34            34             68\n",
       "5               MSV Duisburg            34            34             68\n",
       "6              Karlsruher SC            34            34             68\n",
       "7            SC Paderborn 07            34            34             68\n",
       "8           FC Ingolstadt 04            34            34             68\n",
       "9       SpVgg Greuther Fürth            34            34             68\n",
       "10        Fortuna Düsseldorf            51            51            102\n",
       "11        FC Energie Cottbus            51            51            102\n",
       "12      1. FC Kaiserslautern            51            51            102\n",
       "13        1. FC Union Berlin            68            68            136\n",
       "14                VfL Bochum           102           102            204\n",
       "15         Arminia Bielefeld           102           102            204\n",
       "16                RB Leipzig           119           119            238\n",
       "17            1. FC Nürnberg           153           153            306\n",
       "18               FC Augsburg           204           204            408\n",
       "19              Hamburger SV           221           221            442\n",
       "20               Hannover 96           221           221            442\n",
       "21                1. FC Köln           221           221            442\n",
       "22               SC Freiburg           221           221            442\n",
       "23       TSG 1899 Hoffenheim           255           255            510\n",
       "24             VfB Stuttgart           272           272            544\n",
       "25           1. FSV Mainz 05           272           272            544\n",
       "26                Hertha BSC           272           272            544\n",
       "27             FC Schalke 04           289           289            578\n",
       "28       Eintracht Frankfurt           289           289            578\n",
       "29  Borussia Mönchengladbach           289           289            578\n",
       "30             Werder Bremen           289           289            578\n",
       "31         FC Bayern München           306           306            612\n",
       "32         Borussia Dortmund           306           306            612\n",
       "33          Bayer Leverkusen           306           306            612\n",
       "34             VfL Wolfsburg           306           306            612"
      ]
     },
     "execution_count": 16,
     "metadata": {},
     "output_type": "execute_result"
    }
   ],
   "source": [
    "df_matches.sort_values(by = 'matches_home', inplace = True)\n",
    "df_matches = df_matches.reset_index()\n",
    "df_matches.drop(columns = ['index'], inplace = True)\n",
    "df_matches['total_matches'] = df_matches['matches_home'] + df_matches['matches_away']\n",
    "df_matches"
   ]
  },
  {
   "cell_type": "code",
   "execution_count": 17,
   "id": "8ef9400a",
   "metadata": {},
   "outputs": [
    {
     "data": {
      "image/png": "[encoded data removed]",
      "text/plain": [
       "<Figure size 1080x720 with 1 Axes>"
      ]
     },
     "metadata": {
      "needs_background": "light"
     },
     "output_type": "display_data"
    }
   ],
   "source": [
    "'''Wizualizacja na wykresie kolumnowym poziomym wszystkich meczów danej drużyny do meczów roygrzwanzch jako gospodarz.\n",
    "Vizualization on the horizontal column chart of total matches of the team to matches played like home team.'''\n",
    "plt.figure(figsize = (15, 10))\n",
    "\n",
    "plt.barh(df_matches['team'], df_matches['total_matches'])\n",
    "plt.barh(df_matches['team'], df_matches['matches_home'])\n",
    "\n",
    "plt.xlabel('Number of matches', fontsize = 12)\n",
    "plt.ylabel('Team', fontsize = 12)\n",
    "plt.title('Number of total matches compared to matches played as a home team.', fontsize = 16)\n",
    "\n",
    "plt.show()"
   ]
  },
  {
   "cell_type": "code",
   "execution_count": 18,
   "id": "1713f041",
   "metadata": {},
   "outputs": [
    {
     "data": {
      "image/png": "[encoded data removed]",
      "text/plain": [
       "<Figure size 1080x720 with 1 Axes>"
      ]
     },
     "metadata": {
      "needs_background": "light"
     },
     "output_type": "display_data"
    }
   ],
   "source": [
    "'''Wizualizacja na wykresie kolumnowym poziomym wszystkich meczów danej drużyny do meczów rozgrywanych jako gość.\n",
    "Vizualization on the horizontal column chart of total matches of the team to matches played like away team.'''\n",
    "plt.figure(figsize = (15, 10))\n",
    "\n",
    "plt.barh(df_matches['team'], df_matches['total_matches'])\n",
    "plt.barh(df_matches['team'], df_matches['matches_away'], color = 'green')\n",
    "\n",
    "plt.xlabel('Number of matches', fontsize = 12)\n",
    "plt.ylabel('Team', fontsize = 12)\n",
    "plt.title('Number of total matches compared to matches played as a away team.', fontsize = 16)\n",
    "\n",
    "plt.show()"
   ]
  },
  {
   "cell_type": "markdown",
   "id": "f5d579fa",
   "metadata": {},
   "source": [
    "Z danych w tabeli jak i na wykresach widać, że liczba meczów jako gospodarz jest w każdym przypadku taka sama, jak liczba meczów jako gość (co jest w piłce nożnej w rozgrywkach ligowych oczywistą sprawą). Odstępstwem od tej reguły może być rozgrywanie meczu jako gospodarz nie na swoim stadionie z powodu np. remontu. \n",
    "Najwięcej meczy w Bundeslidze we wskazanych sezonach rozerały VfL Wolfsburg, Bayer Leverkusen, Borussia Dortmund i FC Bayern München. Wszystkie 4 zespoły rozegrały po 612 meczów, czyli w każdym z wymienionych sezonów grały w Bundeslidze. Po drugiej stronie są Eintracht Braunschweig, FC Hansa Rostock, Alemannia Aachen oraz FC St. Pauli, które rozegrały jedynie 34 spotkania, czyli grały jedynie przez jeden sezon.\n",
    "\n",
    "From data in table as well as in the graphs, it can be seen that the number of matches as home team is always the same number of matches as a away team (which is obvious in football in league competition). An exception to this rule may be playing a match as a host at a differebt stadium due to e.g. renovation.\n",
    "VfL Wolfsburg, Bayer Leverkusen, Borussia Dortmund and FC Bayern München played the most matches in the Bundesliga in the indicated seasons. All 4 teams played 612 matches each, which means that they played in Bundesliga in each of the mentioned seasons. On the other side are Eintracht Braunschweig, FC Hansa Rostock, Alemannia Aachen and FC St. Pauli, who played only 34 matches, they only played for one season."
   ]
  },
  {
   "cell_type": "markdown",
   "id": "464a12c6",
   "metadata": {},
   "source": [
    "# Analiza bramek/Goals analysis"
   ]
  },
  {
   "cell_type": "code",
   "execution_count": 19,
   "id": "bd8eece9",
   "metadata": {},
   "outputs": [],
   "source": [
    "df_goals_home = df['goals_home'].value_counts().reset_index()\n",
    "df_goals_home.columns = ['goals', 'counts_home']\n",
    "df_goals_home.sort_values(by = 'goals', inplace = True)\n",
    "\n",
    "df_goals_away = df['goals_away'].value_counts().reset_index()\n",
    "df_goals_away.columns = ['goals', 'counts_away']\n",
    "df_goals_away.sort_values(by = 'goals', inplace = True)"
   ]
  },
  {
   "cell_type": "code",
   "execution_count": 30,
   "id": "8b838fff",
   "metadata": {},
   "outputs": [
    {
     "data": {
      "text/html": [
       "<div>\n",
       "<style scoped>\n",
       "    .dataframe tbody tr th:only-of-type {\n",
       "        vertical-align: middle;\n",
       "    }\n",
       "\n",
       "    .dataframe tbody tr th {\n",
       "        vertical-align: top;\n",
       "    }\n",
       "\n",
       "    .dataframe thead th {\n",
       "        text-align: right;\n",
       "    }\n",
       "</style>\n",
       "<table border=\"1\" class=\"dataframe\">\n",
       "  <thead>\n",
       "    <tr style=\"text-align: right;\">\n",
       "      <th></th>\n",
       "      <th>index</th>\n",
       "      <th>goals_home</th>\n",
       "    </tr>\n",
       "  </thead>\n",
       "  <tbody>\n",
       "    <tr>\n",
       "      <th>0</th>\n",
       "      <td>1</td>\n",
       "      <td>1817</td>\n",
       "    </tr>\n",
       "    <tr>\n",
       "      <th>1</th>\n",
       "      <td>0</td>\n",
       "      <td>1539</td>\n",
       "    </tr>\n",
       "    <tr>\n",
       "      <th>2</th>\n",
       "      <td>2</td>\n",
       "      <td>1196</td>\n",
       "    </tr>\n",
       "    <tr>\n",
       "      <th>3</th>\n",
       "      <td>3</td>\n",
       "      <td>559</td>\n",
       "    </tr>\n",
       "    <tr>\n",
       "      <th>4</th>\n",
       "      <td>4</td>\n",
       "      <td>253</td>\n",
       "    </tr>\n",
       "    <tr>\n",
       "      <th>5</th>\n",
       "      <td>5</td>\n",
       "      <td>100</td>\n",
       "    </tr>\n",
       "    <tr>\n",
       "      <th>6</th>\n",
       "      <td>6</td>\n",
       "      <td>31</td>\n",
       "    </tr>\n",
       "    <tr>\n",
       "      <th>7</th>\n",
       "      <td>7</td>\n",
       "      <td>9</td>\n",
       "    </tr>\n",
       "    <tr>\n",
       "      <th>8</th>\n",
       "      <td>8</td>\n",
       "      <td>3</td>\n",
       "    </tr>\n",
       "    <tr>\n",
       "      <th>9</th>\n",
       "      <td>9</td>\n",
       "      <td>1</td>\n",
       "    </tr>\n",
       "  </tbody>\n",
       "</table>\n",
       "</div>"
      ],
      "text/plain": [
       "   index  goals_home\n",
       "0      1        1817\n",
       "1      0        1539\n",
       "2      2        1196\n",
       "3      3         559\n",
       "4      4         253\n",
       "5      5         100\n",
       "6      6          31\n",
       "7      7           9\n",
       "8      8           3\n",
       "9      9           1"
      ]
     },
     "execution_count": 30,
     "metadata": {},
     "output_type": "execute_result"
    }
   ],
   "source": [
    "df['goals_home'].value_counts().reset_index()"
   ]
  },
  {
   "cell_type": "code",
   "execution_count": 20,
   "id": "64d71f8d",
   "metadata": {},
   "outputs": [
    {
     "data": {
      "text/html": [
       "<div>\n",
       "<style scoped>\n",
       "    .dataframe tbody tr th:only-of-type {\n",
       "        vertical-align: middle;\n",
       "    }\n",
       "\n",
       "    .dataframe tbody tr th {\n",
       "        vertical-align: top;\n",
       "    }\n",
       "\n",
       "    .dataframe thead th {\n",
       "        text-align: right;\n",
       "    }\n",
       "</style>\n",
       "<table border=\"1\" class=\"dataframe\">\n",
       "  <thead>\n",
       "    <tr style=\"text-align: right;\">\n",
       "      <th></th>\n",
       "      <th>goals</th>\n",
       "      <th>counts_home</th>\n",
       "      <th>counts_away</th>\n",
       "    </tr>\n",
       "  </thead>\n",
       "  <tbody>\n",
       "    <tr>\n",
       "      <th>0</th>\n",
       "      <td>0</td>\n",
       "      <td>1539</td>\n",
       "      <td>2047</td>\n",
       "    </tr>\n",
       "    <tr>\n",
       "      <th>1</th>\n",
       "      <td>1</td>\n",
       "      <td>1817</td>\n",
       "      <td>1885</td>\n",
       "    </tr>\n",
       "    <tr>\n",
       "      <th>2</th>\n",
       "      <td>2</td>\n",
       "      <td>1196</td>\n",
       "      <td>973</td>\n",
       "    </tr>\n",
       "    <tr>\n",
       "      <th>3</th>\n",
       "      <td>3</td>\n",
       "      <td>559</td>\n",
       "      <td>402</td>\n",
       "    </tr>\n",
       "    <tr>\n",
       "      <th>4</th>\n",
       "      <td>4</td>\n",
       "      <td>253</td>\n",
       "      <td>143</td>\n",
       "    </tr>\n",
       "    <tr>\n",
       "      <th>5</th>\n",
       "      <td>5</td>\n",
       "      <td>100</td>\n",
       "      <td>37</td>\n",
       "    </tr>\n",
       "    <tr>\n",
       "      <th>6</th>\n",
       "      <td>6</td>\n",
       "      <td>31</td>\n",
       "      <td>18</td>\n",
       "    </tr>\n",
       "    <tr>\n",
       "      <th>7</th>\n",
       "      <td>7</td>\n",
       "      <td>9</td>\n",
       "      <td>2</td>\n",
       "    </tr>\n",
       "    <tr>\n",
       "      <th>8</th>\n",
       "      <td>8</td>\n",
       "      <td>3</td>\n",
       "      <td>1</td>\n",
       "    </tr>\n",
       "    <tr>\n",
       "      <th>9</th>\n",
       "      <td>9</td>\n",
       "      <td>1</td>\n",
       "      <td>0</td>\n",
       "    </tr>\n",
       "  </tbody>\n",
       "</table>\n",
       "</div>"
      ],
      "text/plain": [
       "  goals counts_home counts_away\n",
       "0     0        1539        2047\n",
       "1     1        1817        1885\n",
       "2     2        1196         973\n",
       "3     3         559         402\n",
       "4     4         253         143\n",
       "5     5         100          37\n",
       "6     6          31          18\n",
       "7     7           9           2\n",
       "8     8           3           1\n",
       "9     9           1           0"
      ]
     },
     "execution_count": 20,
     "metadata": {},
     "output_type": "execute_result"
    }
   ],
   "source": [
    "df_goals = df_goals_home.merge(df_goals_away, on = 'goals', how = 'outer')\n",
    "df_goals.fillna(0, inplace = True)\n",
    "df_goals = df_goals.apply(lambda x: x.apply('{0:.0f}'.format))\n",
    "df_goals"
   ]
  },
  {
   "cell_type": "code",
   "execution_count": 34,
   "id": "9b7dbbed",
   "metadata": {},
   "outputs": [
    {
     "data": {
      "application/vnd.plotly.v1+json": {
       "config": {
        "plotlyServerURL": "https://plot.ly"
       },
       "data": [
        {
         "domain": {
          "x": [
           0,
           1
          ],
          "y": [
           0,
           1
          ]
         },
         "hole": 0.5,
         "hovertemplate": "label=%{label}<br>value=%{value}<extra></extra>",
         "labels": [
          "0",
          "1",
          "2",
          "3",
          "4",
          "5",
          "6",
          "7",
          "8",
          "9"
         ],
         "legendgroup": "",
         "name": "",
         "showlegend": true,
         "type": "pie",
         "values": [
          "1539",
          "1817",
          "1196",
          "559",
          "253",
          "100",
          "31",
          "9",
          "3",
          "1"
         ]
        }
       ],
       "layout": {
        "legend": {
         "tracegroupgap": 0
        },
        "margin": {
         "t": 60
        },
        "template": {
         "data": {
          "bar": [
           {
            "error_x": {
             "color": "#2a3f5f"
            },
            "error_y": {
             "color": "#2a3f5f"
            },
            "marker": {
             "line": {
              "color": "#E5ECF6",
              "width": 0.5
             },
             "pattern": {
              "fillmode": "overlay",
              "size": 10,
              "solidity": 0.2
             }
            },
            "type": "bar"
           }
          ],
          "barpolar": [
           {
            "marker": {
             "line": {
              "color": "#E5ECF6",
              "width": 0.5
             },
             "pattern": {
              "fillmode": "overlay",
              "size": 10,
              "solidity": 0.2
             }
            },
            "type": "barpolar"
           }
          ],
          "carpet": [
           {
            "aaxis": {
             "endlinecolor": "#2a3f5f",
             "gridcolor": "white",
             "linecolor": "white",
             "minorgridcolor": "white",
             "startlinecolor": "#2a3f5f"
            },
            "baxis": {
             "endlinecolor": "#2a3f5f",
             "gridcolor": "white",
             "linecolor": "white",
             "minorgridcolor": "white",
             "startlinecolor": "#2a3f5f"
            },
            "type": "carpet"
           }
          ],
          "choropleth": [
           {
            "colorbar": {
             "outlinewidth": 0,
             "ticks": ""
            },
            "type": "choropleth"
           }
          ],
          "contour": [
           {
            "colorbar": {
             "outlinewidth": 0,
             "ticks": ""
            },
            "colorscale": [
             [
              0,
              "#0d0887"
             ],
             [
              0.1111111111111111,
              "#46039f"
             ],
             [
              0.2222222222222222,
              "#7201a8"
             ],
             [
              0.3333333333333333,
              "#9c179e"
             ],
             [
              0.4444444444444444,
              "#bd3786"
             ],
             [
              0.5555555555555556,
              "#d8576b"
             ],
             [
              0.6666666666666666,
              "#ed7953"
             ],
             [
              0.7777777777777778,
              "#fb9f3a"
             ],
             [
              0.8888888888888888,
              "#fdca26"
             ],
             [
              1,
              "#f0f921"
             ]
            ],
            "type": "contour"
           }
          ],
          "contourcarpet": [
           {
            "colorbar": {
             "outlinewidth": 0,
             "ticks": ""
            },
            "type": "contourcarpet"
           }
          ],
          "heatmap": [
           {
            "colorbar": {
             "outlinewidth": 0,
             "ticks": ""
            },
            "colorscale": [
             [
              0,
              "#0d0887"
             ],
             [
              0.1111111111111111,
              "#46039f"
             ],
             [
              0.2222222222222222,
              "#7201a8"
             ],
             [
              0.3333333333333333,
              "#9c179e"
             ],
             [
              0.4444444444444444,
              "#bd3786"
             ],
             [
              0.5555555555555556,
              "#d8576b"
             ],
             [
              0.6666666666666666,
              "#ed7953"
             ],
             [
              0.7777777777777778,
              "#fb9f3a"
             ],
             [
              0.8888888888888888,
              "#fdca26"
             ],
             [
              1,
              "#f0f921"
             ]
            ],
            "type": "heatmap"
           }
          ],
          "heatmapgl": [
           {
            "colorbar": {
             "outlinewidth": 0,
             "ticks": ""
            },
            "colorscale": [
             [
              0,
              "#0d0887"
             ],
             [
              0.1111111111111111,
              "#46039f"
             ],
             [
              0.2222222222222222,
              "#7201a8"
             ],
             [
              0.3333333333333333,
              "#9c179e"
             ],
             [
              0.4444444444444444,
              "#bd3786"
             ],
             [
              0.5555555555555556,
              "#d8576b"
             ],
             [
              0.6666666666666666,
              "#ed7953"
             ],
             [
              0.7777777777777778,
              "#fb9f3a"
             ],
             [
              0.8888888888888888,
              "#fdca26"
             ],
             [
              1,
              "#f0f921"
             ]
            ],
            "type": "heatmapgl"
           }
          ],
          "histogram": [
           {
            "marker": {
             "pattern": {
              "fillmode": "overlay",
              "size": 10,
              "solidity": 0.2
             }
            },
            "type": "histogram"
           }
          ],
          "histogram2d": [
           {
            "colorbar": {
             "outlinewidth": 0,
             "ticks": ""
            },
            "colorscale": [
             [
              0,
              "#0d0887"
             ],
             [
              0.1111111111111111,
              "#46039f"
             ],
             [
              0.2222222222222222,
              "#7201a8"
             ],
             [
              0.3333333333333333,
              "#9c179e"
             ],
             [
              0.4444444444444444,
              "#bd3786"
             ],
             [
              0.5555555555555556,
              "#d8576b"
             ],
             [
              0.6666666666666666,
              "#ed7953"
             ],
             [
              0.7777777777777778,
              "#fb9f3a"
             ],
             [
              0.8888888888888888,
              "#fdca26"
             ],
             [
              1,
              "#f0f921"
             ]
            ],
            "type": "histogram2d"
           }
          ],
          "histogram2dcontour": [
           {
            "colorbar": {
             "outlinewidth": 0,
             "ticks": ""
            },
            "colorscale": [
             [
              0,
              "#0d0887"
             ],
             [
              0.1111111111111111,
              "#46039f"
             ],
             [
              0.2222222222222222,
              "#7201a8"
             ],
             [
              0.3333333333333333,
              "#9c179e"
             ],
             [
              0.4444444444444444,
              "#bd3786"
             ],
             [
              0.5555555555555556,
              "#d8576b"
             ],
             [
              0.6666666666666666,
              "#ed7953"
             ],
             [
              0.7777777777777778,
              "#fb9f3a"
             ],
             [
              0.8888888888888888,
              "#fdca26"
             ],
             [
              1,
              "#f0f921"
             ]
            ],
            "type": "histogram2dcontour"
           }
          ],
          "mesh3d": [
           {
            "colorbar": {
             "outlinewidth": 0,
             "ticks": ""
            },
            "type": "mesh3d"
           }
          ],
          "parcoords": [
           {
            "line": {
             "colorbar": {
              "outlinewidth": 0,
              "ticks": ""
             }
            },
            "type": "parcoords"
           }
          ],
          "pie": [
           {
            "automargin": true,
            "type": "pie"
           }
          ],
          "scatter": [
           {
            "fillpattern": {
             "fillmode": "overlay",
             "size": 10,
             "solidity": 0.2
            },
            "type": "scatter"
           }
          ],
          "scatter3d": [
           {
            "line": {
             "colorbar": {
              "outlinewidth": 0,
              "ticks": ""
             }
            },
            "marker": {
             "colorbar": {
              "outlinewidth": 0,
              "ticks": ""
             }
            },
            "type": "scatter3d"
           }
          ],
          "scattercarpet": [
           {
            "marker": {
             "colorbar": {
              "outlinewidth": 0,
              "ticks": ""
             }
            },
            "type": "scattercarpet"
           }
          ],
          "scattergeo": [
           {
            "marker": {
             "colorbar": {
              "outlinewidth": 0,
              "ticks": ""
             }
            },
            "type": "scattergeo"
           }
          ],
          "scattergl": [
           {
            "marker": {
             "colorbar": {
              "outlinewidth": 0,
              "ticks": ""
             }
            },
            "type": "scattergl"
           }
          ],
          "scattermapbox": [
           {
            "marker": {
             "colorbar": {
              "outlinewidth": 0,
              "ticks": ""
             }
            },
            "type": "scattermapbox"
           }
          ],
          "scatterpolar": [
           {
            "marker": {
             "colorbar": {
              "outlinewidth": 0,
              "ticks": ""
             }
            },
            "type": "scatterpolar"
           }
          ],
          "scatterpolargl": [
           {
            "marker": {
             "colorbar": {
              "outlinewidth": 0,
              "ticks": ""
             }
            },
            "type": "scatterpolargl"
           }
          ],
          "scatterternary": [
           {
            "marker": {
             "colorbar": {
              "outlinewidth": 0,
              "ticks": ""
             }
            },
            "type": "scatterternary"
           }
          ],
          "surface": [
           {
            "colorbar": {
             "outlinewidth": 0,
             "ticks": ""
            },
            "colorscale": [
             [
              0,
              "#0d0887"
             ],
             [
              0.1111111111111111,
              "#46039f"
             ],
             [
              0.2222222222222222,
              "#7201a8"
             ],
             [
              0.3333333333333333,
              "#9c179e"
             ],
             [
              0.4444444444444444,
              "#bd3786"
             ],
             [
              0.5555555555555556,
              "#d8576b"
             ],
             [
              0.6666666666666666,
              "#ed7953"
             ],
             [
              0.7777777777777778,
              "#fb9f3a"
             ],
             [
              0.8888888888888888,
              "#fdca26"
             ],
             [
              1,
              "#f0f921"
             ]
            ],
            "type": "surface"
           }
          ],
          "table": [
           {
            "cells": {
             "fill": {
              "color": "#EBF0F8"
             },
             "line": {
              "color": "white"
             }
            },
            "header": {
             "fill": {
              "color": "#C8D4E3"
             },
             "line": {
              "color": "white"
             }
            },
            "type": "table"
           }
          ]
         },
         "layout": {
          "annotationdefaults": {
           "arrowcolor": "#2a3f5f",
           "arrowhead": 0,
           "arrowwidth": 1
          },
          "autotypenumbers": "strict",
          "coloraxis": {
           "colorbar": {
            "outlinewidth": 0,
            "ticks": ""
           }
          },
          "colorscale": {
           "diverging": [
            [
             0,
             "#8e0152"
            ],
            [
             0.1,
             "#c51b7d"
            ],
            [
             0.2,
             "#de77ae"
            ],
            [
             0.3,
             "#f1b6da"
            ],
            [
             0.4,
             "#fde0ef"
            ],
            [
             0.5,
             "#f7f7f7"
            ],
            [
             0.6,
             "#e6f5d0"
            ],
            [
             0.7,
             "#b8e186"
            ],
            [
             0.8,
             "#7fbc41"
            ],
            [
             0.9,
             "#4d9221"
            ],
            [
             1,
             "#276419"
            ]
           ],
           "sequential": [
            [
             0,
             "#0d0887"
            ],
            [
             0.1111111111111111,
             "#46039f"
            ],
            [
             0.2222222222222222,
             "#7201a8"
            ],
            [
             0.3333333333333333,
             "#9c179e"
            ],
            [
             0.4444444444444444,
             "#bd3786"
            ],
            [
             0.5555555555555556,
             "#d8576b"
            ],
            [
             0.6666666666666666,
             "#ed7953"
            ],
            [
             0.7777777777777778,
             "#fb9f3a"
            ],
            [
             0.8888888888888888,
             "#fdca26"
            ],
            [
             1,
             "#f0f921"
            ]
           ],
           "sequentialminus": [
            [
             0,
             "#0d0887"
            ],
            [
             0.1111111111111111,
             "#46039f"
            ],
            [
             0.2222222222222222,
             "#7201a8"
            ],
            [
             0.3333333333333333,
             "#9c179e"
            ],
            [
             0.4444444444444444,
             "#bd3786"
            ],
            [
             0.5555555555555556,
             "#d8576b"
            ],
            [
             0.6666666666666666,
             "#ed7953"
            ],
            [
             0.7777777777777778,
             "#fb9f3a"
            ],
            [
             0.8888888888888888,
             "#fdca26"
            ],
            [
             1,
             "#f0f921"
            ]
           ]
          },
          "colorway": [
           "#636efa",
           "#EF553B",
           "#00cc96",
           "#ab63fa",
           "#FFA15A",
           "#19d3f3",
           "#FF6692",
           "#B6E880",
           "#FF97FF",
           "#FECB52"
          ],
          "font": {
           "color": "#2a3f5f"
          },
          "geo": {
           "bgcolor": "white",
           "lakecolor": "white",
           "landcolor": "#E5ECF6",
           "showlakes": true,
           "showland": true,
           "subunitcolor": "white"
          },
          "hoverlabel": {
           "align": "left"
          },
          "hovermode": "closest",
          "mapbox": {
           "style": "light"
          },
          "paper_bgcolor": "white",
          "plot_bgcolor": "#E5ECF6",
          "polar": {
           "angularaxis": {
            "gridcolor": "white",
            "linecolor": "white",
            "ticks": ""
           },
           "bgcolor": "#E5ECF6",
           "radialaxis": {
            "gridcolor": "white",
            "linecolor": "white",
            "ticks": ""
           }
          },
          "scene": {
           "xaxis": {
            "backgroundcolor": "#E5ECF6",
            "gridcolor": "white",
            "gridwidth": 2,
            "linecolor": "white",
            "showbackground": true,
            "ticks": "",
            "zerolinecolor": "white"
           },
           "yaxis": {
            "backgroundcolor": "#E5ECF6",
            "gridcolor": "white",
            "gridwidth": 2,
            "linecolor": "white",
            "showbackground": true,
            "ticks": "",
            "zerolinecolor": "white"
           },
           "zaxis": {
            "backgroundcolor": "#E5ECF6",
            "gridcolor": "white",
            "gridwidth": 2,
            "linecolor": "white",
            "showbackground": true,
            "ticks": "",
            "zerolinecolor": "white"
           }
          },
          "shapedefaults": {
           "line": {
            "color": "#2a3f5f"
           }
          },
          "ternary": {
           "aaxis": {
            "gridcolor": "white",
            "linecolor": "white",
            "ticks": ""
           },
           "baxis": {
            "gridcolor": "white",
            "linecolor": "white",
            "ticks": ""
           },
           "bgcolor": "#E5ECF6",
           "caxis": {
            "gridcolor": "white",
            "linecolor": "white",
            "ticks": ""
           }
          },
          "title": {
           "x": 0.05
          },
          "xaxis": {
           "automargin": true,
           "gridcolor": "white",
           "linecolor": "white",
           "ticks": "",
           "title": {
            "standoff": 15
           },
           "zerolinecolor": "white",
           "zerolinewidth": 2
          },
          "yaxis": {
           "automargin": true,
           "gridcolor": "white",
           "linecolor": "white",
           "ticks": "",
           "title": {
            "standoff": 15
           },
           "zerolinecolor": "white",
           "zerolinewidth": 2
          }
         }
        }
       }
      }
     },
     "metadata": {},
     "output_type": "display_data"
    }
   ],
   "source": [
    "import plotly.express as px\n",
    "\n",
    "labels = df_goals[\"goals\"]\n",
    "values = df_goals[\"counts_home\"]\n",
    "\n",
    "fig = px.pie(values = values, names = labels, hole = 0.5)\n",
    "\n",
    "fig.show()"
   ]
  },
  {
   "cell_type": "code",
   "execution_count": 39,
   "id": "3614c1f6",
   "metadata": {},
   "outputs": [
    {
     "data": {
      "text/plain": [
       "0    1539\n",
       "1    1817\n",
       "2    1196\n",
       "3     559\n",
       "4     253\n",
       "5     100\n",
       "6      31\n",
       "7       9\n",
       "8       3\n",
       "9       1\n",
       "Name: counts_home, dtype: object"
      ]
     },
     "execution_count": 39,
     "metadata": {},
     "output_type": "execute_result"
    }
   ],
   "source": [
    "df_goals[\"counts_home\"]"
   ]
  },
  {
   "cell_type": "code",
   "execution_count": 41,
   "id": "148b63ce",
   "metadata": {},
   "outputs": [
    {
     "data": {
      "image/png": "[encoded data removed]",
      "text/plain": [
       "<Figure size 720x720 with 1 Axes>"
      ]
     },
     "metadata": {
      "needs_background": "light"
     },
     "output_type": "display_data"
    }
   ],
   "source": [
    "height = [1539, 1817, 1196, 559, 253, 100, 31, 9, 3, 1]\n",
    "bars = (0, 1, 2, 3, 4, 5, 6, 7, 8, 9)\n",
    "pos = np.arange(len(height))\n",
    "\n",
    "plt.figure(figsize = (10, 10))\n",
    "plt.xticks(pos, bars)\n",
    "\n",
    "plt.bar(pos, height)\n",
    "\n",
    "plt.show()"
   ]
  }
 ],
 "metadata": {
  "kernelspec": {
   "display_name": "Python 3 (ipykernel)",
   "language": "python",
   "name": "python3"
  },
  "language_info": {
   "codemirror_mode": {
    "name": "ipython",
    "version": 3
   },
   "file_extension": ".py",
   "mimetype": "text/x-python",
   "name": "python",
   "nbconvert_exporter": "python",
   "pygments_lexer": "ipython3",
   "version": "3.10.5"
  }
 },
 "nbformat": 4,
 "nbformat_minor": 5
}
